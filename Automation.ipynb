{
 "cells": [
  {
   "cell_type": "markdown",
   "metadata": {},
   "source": [
    "## Automation\n",
    "Nothing too fancy here."
   ]
  },
  {
   "cell_type": "markdown",
   "metadata": {},
   "source": [
    "### Run tests"
   ]
  },
  {
   "cell_type": "code",
   "execution_count": 1,
   "metadata": {
    "collapsed": false
   },
   "outputs": [
    {
     "name": "stdout",
     "output_type": "stream",
     "text": [
      "running test\n",
      "running egg_info\n",
      "creating markdownmagic.egg-info\n",
      "writing dependency_links to markdownmagic.egg-info/dependency_links.txt\n",
      "writing top-level names to markdownmagic.egg-info/top_level.txt\n",
      "writing markdownmagic.egg-info/PKG-INFO\n",
      "writing requirements to markdownmagic.egg-info/requires.txt\n",
      "writing manifest file 'markdownmagic.egg-info/SOURCES.txt'\n",
      "reading manifest file 'markdownmagic.egg-info/SOURCES.txt'\n",
      "reading manifest template 'MANIFEST.in'\n",
      "warning: no files found matching '*.ipynb' under directory 'tests/'\n",
      "writing manifest file 'markdownmagic.egg-info/SOURCES.txt'\n",
      "running build_ext\n",
      "\n",
      "----------------------------------------------------------------------\n",
      "Ran 0 tests in 0.000s\n",
      "\n",
      "OK\n"
     ]
    }
   ],
   "source": [
    "!python setup.py test"
   ]
  },
  {
   "cell_type": "markdown",
   "metadata": {},
   "source": [
    "### Check code style"
   ]
  },
  {
   "cell_type": "code",
   "execution_count": 39,
   "metadata": {
    "collapsed": false
   },
   "outputs": [
    {
     "name": "stdout",
     "output_type": "stream",
     "text": [
      "./setup.py:42:2: W292 no newline at end of file\r\n"
     ]
    }
   ],
   "source": [
    "!flake8"
   ]
  },
  {
   "cell_type": "markdown",
   "metadata": {},
   "source": [
    "### Generate `README.md` from `README.ipynb`"
   ]
  },
  {
   "cell_type": "code",
   "execution_count": null,
   "metadata": {
    "collapsed": false
   },
   "outputs": [
    {
     "name": "stdout",
     "output_type": "stream",
     "text": [
      "Using Anaconda Cloud api site https://api.anaconda.org\n",
      "Fetching package metadata: ......\n",
      "Solving package specifications: .........\n",
      "\n",
      "Package plan for installation in environment /Users/tfast/anaconda:\n",
      "\n",
      "The following packages will be downloaded:\n",
      "\n",
      "    package                    |            build\n",
      "    ---------------------------|-----------------\n",
      "    pandoc-1.15.2              |                0        25.0 MB\n",
      "\n",
      "The following NEW packages will be INSTALLED:\n",
      "\n",
      "    pandoc: 1.15.2-0\n",
      "\n",
      "Fetching packages ...\n"
     ]
    }
   ],
   "source": [
    "!conda install pandoc -y"
   ]
  },
  {
   "cell_type": "code",
   "execution_count": 47,
   "metadata": {
    "collapsed": false
   },
   "outputs": [
    {
     "name": "stdout",
     "output_type": "stream",
     "text": [
      "/Users/tfast/anaconda/lib/python3.5/site-packages/IPython/nbconvert.py:13: ShimWarning: The `IPython.nbconvert` package has been deprecated. You should import from nbconvert instead.\n",
      "  \"You should import from nbconvert instead.\", ShimWarning)\n",
      "[NbConvertApp] Converting notebook README.ipynb to rst\n",
      "[NbConvertApp] ERROR | Error while converting 'README.ipynb'\n",
      "Traceback (most recent call last):\n",
      "  File \"/Users/tfast/anaconda/lib/python3.5/site-packages/nbconvert/nbconvertapp.py\", line 335, in export_single_notebook\n",
      "    output, resources = self.exporter.from_filename(notebook_filename, resources=resources)\n",
      "  File \"/Users/tfast/anaconda/lib/python3.5/site-packages/nbconvert/exporters/exporter.py\", line 165, in from_filename\n",
      "    return self.from_notebook_node(nbformat.read(f, as_version=4), resources=resources, **kw)\n",
      "  File \"/Users/tfast/anaconda/lib/python3.5/site-packages/nbconvert/exporters/templateexporter.py\", line 202, in from_notebook_node\n",
      "    output = self.template.render(nb=nb_copy, resources=resources)\n",
      "  File \"/Users/tfast/anaconda/lib/python3.5/site-packages/jinja2/environment.py\", line 989, in render\n",
      "    return self.environment.handle_exception(exc_info, True)\n",
      "  File \"/Users/tfast/anaconda/lib/python3.5/site-packages/jinja2/environment.py\", line 754, in handle_exception\n",
      "    reraise(exc_type, exc_value, tb)\n",
      "  File \"/Users/tfast/anaconda/lib/python3.5/site-packages/jinja2/_compat.py\", line 37, in reraise\n",
      "    raise value.with_traceback(tb)\n",
      "  File \"/Users/tfast/anaconda/lib/python3.5/site-packages/nbconvert/exporters/../templates/rst.tpl\", line 1, in top-level template code\n",
      "    {%- extends 'display_priority.tpl' -%}\n",
      "  File \"/Users/tfast/anaconda/lib/python3.5/site-packages/nbconvert/exporters/../templates/skeleton/display_priority.tpl\", line 1, in top-level template code\n",
      "    {%- extends 'null.tpl' -%}\n",
      "  File \"/Users/tfast/anaconda/lib/python3.5/site-packages/nbconvert/exporters/../templates/skeleton/null.tpl\", line 26, in top-level template code\n",
      "    {%- block body -%}\n",
      "  File \"/Users/tfast/anaconda/lib/python3.5/site-packages/nbconvert/exporters/../templates/skeleton/null.tpl\", line 28, in block \"body\"\n",
      "    {%- block any_cell scoped -%}\n",
      "  File \"/Users/tfast/anaconda/lib/python3.5/site-packages/nbconvert/exporters/../templates/skeleton/null.tpl\", line 72, in block \"any_cell\"\n",
      "    {%- block markdowncell scoped-%}\n",
      "  File \"/Users/tfast/anaconda/lib/python3.5/site-packages/nbconvert/exporters/../templates/rst.tpl\", line 75, in block \"markdowncell\"\n",
      "    {{ cell.source | markdown2rst }}\n",
      "  File \"/Users/tfast/anaconda/lib/python3.5/site-packages/nbconvert/filters/markdown.py\", line 87, in markdown2rst\n",
      "    return pandoc(source, 'markdown', 'rst', extra_args=extra_args)\n",
      "  File \"/Users/tfast/anaconda/lib/python3.5/site-packages/nbconvert/utils/pandoc.py\", line 49, in pandoc\n",
      "    check_pandoc_version()\n",
      "  File \"/Users/tfast/anaconda/lib/python3.5/site-packages/nbconvert/utils/pandoc.py\", line 95, in check_pandoc_version\n",
      "    v = get_pandoc_version()\n",
      "  File \"/Users/tfast/anaconda/lib/python3.5/site-packages/nbconvert/utils/pandoc.py\", line 74, in get_pandoc_version\n",
      "    raise PandocMissing()\n",
      "nbconvert.utils.pandoc.PandocMissing: Pandoc wasn't found.\n",
      "Please check that pandoc is installed:\n",
      "http://johnmacfarlane.net/pandoc/installing.html\n"
     ]
    }
   ],
   "source": [
    "!jupyter nbconvert README.ipynb --to=rst"
   ]
  },
  {
   "cell_type": "code",
   "execution_count": 40,
   "metadata": {
    "collapsed": false
   },
   "outputs": [
    {
     "name": "stdout",
     "output_type": "stream",
     "text": [
      "/Users/tfast/anaconda/lib/python3.5/site-packages/IPython/nbconvert.py:13: ShimWarning: The `IPython.nbconvert` package has been deprecated. You should import from nbconvert instead.\n",
      "  \"You should import from nbconvert instead.\", ShimWarning)\n",
      "[NbConvertApp] Converting notebook README.ipynb to markdown\n",
      "[NbConvertApp] Writing 1466 bytes to README.md\n"
     ]
    }
   ],
   "source": [
    "!jupyter nbconvert README.ipynb --to=markdown"
   ]
  },
  {
   "cell_type": "markdown",
   "metadata": {},
   "source": [
    "## Test Release for PyPi"
   ]
  },
  {
   "cell_type": "code",
   "execution_count": 42,
   "metadata": {
    "collapsed": false
   },
   "outputs": [
    {
     "name": "stdout",
     "output_type": "stream",
     "text": [
      "running register\n",
      "running egg_info\n",
      "writing markdownmagic.egg-info/PKG-INFO\n",
      "writing requirements to markdownmagic.egg-info/requires.txt\n",
      "writing dependency_links to markdownmagic.egg-info/dependency_links.txt\n",
      "writing top-level names to markdownmagic.egg-info/top_level.txt\n",
      "reading manifest file 'markdownmagic.egg-info/SOURCES.txt'\n",
      "reading manifest template 'MANIFEST.in'\n",
      "warning: no files found matching '*.ipynb' under directory 'tests/'\n",
      "writing manifest file 'markdownmagic.egg-info/SOURCES.txt'\n",
      "running check\n",
      "Registering markdownmagic to https://testpypi.python.org/pypi\n",
      "Server response (200): OK\n",
      "running sdist\n",
      "running egg_info\n",
      "writing markdownmagic.egg-info/PKG-INFO\n",
      "writing dependency_links to markdownmagic.egg-info/dependency_links.txt\n",
      "writing top-level names to markdownmagic.egg-info/top_level.txt\n",
      "writing requirements to markdownmagic.egg-info/requires.txt\n",
      "reading manifest file 'markdownmagic.egg-info/SOURCES.txt'\n",
      "reading manifest template 'MANIFEST.in'\n",
      "warning: no files found matching '*.ipynb' under directory 'tests/'\n",
      "writing manifest file 'markdownmagic.egg-info/SOURCES.txt'\n",
      "running check\n",
      "creating markdownmagic-0.1.0\n",
      "creating markdownmagic-0.1.0/markdownmagic.egg-info\n",
      "making hard links in markdownmagic-0.1.0...\n",
      "hard linking Automation.ipynb -> markdownmagic-0.1.0\n",
      "hard linking LICENSE -> markdownmagic-0.1.0\n",
      "hard linking MANIFEST.in -> markdownmagic-0.1.0\n",
      "hard linking README.ipynb -> markdownmagic-0.1.0\n",
      "hard linking README.md -> markdownmagic-0.1.0\n",
      "hard linking README.rst -> markdownmagic-0.1.0\n",
      "hard linking creating-markdownmagic.ipynb -> markdownmagic-0.1.0\n",
      "hard linking markdownmagic.py -> markdownmagic-0.1.0\n",
      "hard linking setup.cfg -> markdownmagic-0.1.0\n",
      "hard linking setup.py -> markdownmagic-0.1.0\n",
      "hard linking markdownmagic.egg-info/PKG-INFO -> markdownmagic-0.1.0/markdownmagic.egg-info\n",
      "hard linking markdownmagic.egg-info/SOURCES.txt -> markdownmagic-0.1.0/markdownmagic.egg-info\n",
      "hard linking markdownmagic.egg-info/dependency_links.txt -> markdownmagic-0.1.0/markdownmagic.egg-info\n",
      "hard linking markdownmagic.egg-info/requires.txt -> markdownmagic-0.1.0/markdownmagic.egg-info\n",
      "hard linking markdownmagic.egg-info/top_level.txt -> markdownmagic-0.1.0/markdownmagic.egg-info\n",
      "copying setup.cfg -> markdownmagic-0.1.0\n",
      "Writing markdownmagic-0.1.0/setup.cfg\n",
      "Creating tar archive\n",
      "removing 'markdownmagic-0.1.0' (and everything under it)\n",
      "running bdist_wheel\n",
      "running build\n",
      "running build_py\n",
      "installing to build/bdist.macosx-10.5-x86_64/wheel\n",
      "running install\n",
      "running install_lib\n",
      "creating build/bdist.macosx-10.5-x86_64/wheel\n",
      "copying build/lib/markdownmagic.py -> build/bdist.macosx-10.5-x86_64/wheel\n",
      "running install_egg_info\n",
      "running egg_info\n",
      "writing top-level names to markdownmagic.egg-info/top_level.txt\n",
      "writing dependency_links to markdownmagic.egg-info/dependency_links.txt\n",
      "writing markdownmagic.egg-info/PKG-INFO\n",
      "writing requirements to markdownmagic.egg-info/requires.txt\n",
      "reading manifest file 'markdownmagic.egg-info/SOURCES.txt'\n",
      "reading manifest template 'MANIFEST.in'\n",
      "warning: no files found matching '*.ipynb' under directory 'tests/'\n",
      "writing manifest file 'markdownmagic.egg-info/SOURCES.txt'\n",
      "Copying markdownmagic.egg-info to build/bdist.macosx-10.5-x86_64/wheel/markdownmagic-0.1.0-py3.5.egg-info\n",
      "running install_scripts\n",
      "creating build/bdist.macosx-10.5-x86_64/wheel/markdownmagic-0.1.0.dist-info/WHEEL\n",
      "running sdist\n",
      "running egg_info\n",
      "writing dependency_links to markdownmagic.egg-info/dependency_links.txt\n",
      "writing requirements to markdownmagic.egg-info/requires.txt\n",
      "writing markdownmagic.egg-info/PKG-INFO\n",
      "writing top-level names to markdownmagic.egg-info/top_level.txt\n",
      "reading manifest file 'markdownmagic.egg-info/SOURCES.txt'\n",
      "reading manifest template 'MANIFEST.in'\n",
      "warning: no files found matching '*.ipynb' under directory 'tests/'\n",
      "writing manifest file 'markdownmagic.egg-info/SOURCES.txt'\n",
      "running check\n",
      "creating markdownmagic-0.1.0\n",
      "creating markdownmagic-0.1.0/markdownmagic.egg-info\n",
      "making hard links in markdownmagic-0.1.0...\n",
      "hard linking Automation.ipynb -> markdownmagic-0.1.0\n",
      "hard linking LICENSE -> markdownmagic-0.1.0\n",
      "hard linking MANIFEST.in -> markdownmagic-0.1.0\n",
      "hard linking README.ipynb -> markdownmagic-0.1.0\n",
      "hard linking README.md -> markdownmagic-0.1.0\n",
      "hard linking README.rst -> markdownmagic-0.1.0\n",
      "hard linking creating-markdownmagic.ipynb -> markdownmagic-0.1.0\n",
      "hard linking markdownmagic.py -> markdownmagic-0.1.0\n",
      "hard linking setup.cfg -> markdownmagic-0.1.0\n",
      "hard linking setup.py -> markdownmagic-0.1.0\n",
      "hard linking markdownmagic.egg-info/PKG-INFO -> markdownmagic-0.1.0/markdownmagic.egg-info\n",
      "hard linking markdownmagic.egg-info/SOURCES.txt -> markdownmagic-0.1.0/markdownmagic.egg-info\n",
      "hard linking markdownmagic.egg-info/dependency_links.txt -> markdownmagic-0.1.0/markdownmagic.egg-info\n",
      "hard linking markdownmagic.egg-info/requires.txt -> markdownmagic-0.1.0/markdownmagic.egg-info\n",
      "hard linking markdownmagic.egg-info/top_level.txt -> markdownmagic-0.1.0/markdownmagic.egg-info\n",
      "copying setup.cfg -> markdownmagic-0.1.0\n",
      "Writing markdownmagic-0.1.0/setup.cfg\n",
      "Creating tar archive\n",
      "removing 'markdownmagic-0.1.0' (and everything under it)\n",
      "running upload\n",
      "Submitting dist/markdownmagic-0.1.0.tar.gz to https://testpypi.python.org/pypi\n",
      "Server response (200): OK\n",
      "running bdist_wheel\n",
      "running build\n",
      "running build_py\n",
      "installing to build/bdist.macosx-10.5-x86_64/wheel\n",
      "running install\n",
      "running install_lib\n",
      "creating build/bdist.macosx-10.5-x86_64/wheel\n",
      "copying build/lib/markdownmagic.py -> build/bdist.macosx-10.5-x86_64/wheel\n",
      "running install_egg_info\n",
      "running egg_info\n",
      "writing dependency_links to markdownmagic.egg-info/dependency_links.txt\n",
      "writing markdownmagic.egg-info/PKG-INFO\n",
      "writing top-level names to markdownmagic.egg-info/top_level.txt\n",
      "writing requirements to markdownmagic.egg-info/requires.txt\n",
      "reading manifest file 'markdownmagic.egg-info/SOURCES.txt'\n",
      "reading manifest template 'MANIFEST.in'\n",
      "warning: no files found matching '*.ipynb' under directory 'tests/'\n",
      "writing manifest file 'markdownmagic.egg-info/SOURCES.txt'\n",
      "Copying markdownmagic.egg-info to build/bdist.macosx-10.5-x86_64/wheel/markdownmagic-0.1.0-py3.5.egg-info\n",
      "running install_scripts\n",
      "creating build/bdist.macosx-10.5-x86_64/wheel/markdownmagic-0.1.0.dist-info/WHEEL\n",
      "running upload\n",
      "Submitting /Users/tfast/jademagic/dist/markdownmagic-0.1.0-py2.py3-none-any.whl to https://testpypi.python.org/pypi\n",
      "Server response (200): OK\n"
     ]
    }
   ],
   "source": [
    "!python setup.py register -r pypitest\n",
    "!python setup.py sdist\n",
    "!python setup.py bdist_wheel\n",
    "!python setup.py sdist upload -r pypitest\n",
    "!python setup.py bdist_wheel upload -r pypitest"
   ]
  },
  {
   "cell_type": "markdown",
   "metadata": {},
   "source": [
    "# Cut a real release for PyPi"
   ]
  },
  {
   "cell_type": "code",
   "execution_count": 43,
   "metadata": {
    "collapsed": false
   },
   "outputs": [
    {
     "name": "stdout",
     "output_type": "stream",
     "text": [
      "running register\n",
      "running egg_info\n",
      "writing requirements to markdownmagic.egg-info/requires.txt\n",
      "writing dependency_links to markdownmagic.egg-info/dependency_links.txt\n",
      "writing markdownmagic.egg-info/PKG-INFO\n",
      "writing top-level names to markdownmagic.egg-info/top_level.txt\n",
      "reading manifest file 'markdownmagic.egg-info/SOURCES.txt'\n",
      "reading manifest template 'MANIFEST.in'\n",
      "warning: no files found matching '*.ipynb' under directory 'tests/'\n",
      "writing manifest file 'markdownmagic.egg-info/SOURCES.txt'\n",
      "running check\n",
      "Registering markdownmagic to https://pypi.python.org/pypi\n",
      "Server response (200): OK\n",
      "running sdist\n",
      "running egg_info\n",
      "writing top-level names to markdownmagic.egg-info/top_level.txt\n",
      "writing dependency_links to markdownmagic.egg-info/dependency_links.txt\n",
      "writing markdownmagic.egg-info/PKG-INFO\n",
      "writing requirements to markdownmagic.egg-info/requires.txt\n",
      "reading manifest file 'markdownmagic.egg-info/SOURCES.txt'\n",
      "reading manifest template 'MANIFEST.in'\n",
      "warning: no files found matching '*.ipynb' under directory 'tests/'\n",
      "writing manifest file 'markdownmagic.egg-info/SOURCES.txt'\n",
      "running check\n",
      "creating markdownmagic-0.1.0\n",
      "creating markdownmagic-0.1.0/markdownmagic.egg-info\n",
      "making hard links in markdownmagic-0.1.0...\n",
      "hard linking Automation.ipynb -> markdownmagic-0.1.0\n",
      "hard linking LICENSE -> markdownmagic-0.1.0\n",
      "hard linking MANIFEST.in -> markdownmagic-0.1.0\n",
      "hard linking README.ipynb -> markdownmagic-0.1.0\n",
      "hard linking README.md -> markdownmagic-0.1.0\n",
      "hard linking README.rst -> markdownmagic-0.1.0\n",
      "hard linking creating-markdownmagic.ipynb -> markdownmagic-0.1.0\n",
      "hard linking markdownmagic.py -> markdownmagic-0.1.0\n",
      "hard linking setup.cfg -> markdownmagic-0.1.0\n",
      "hard linking setup.py -> markdownmagic-0.1.0\n",
      "hard linking markdownmagic.egg-info/PKG-INFO -> markdownmagic-0.1.0/markdownmagic.egg-info\n",
      "hard linking markdownmagic.egg-info/SOURCES.txt -> markdownmagic-0.1.0/markdownmagic.egg-info\n",
      "hard linking markdownmagic.egg-info/dependency_links.txt -> markdownmagic-0.1.0/markdownmagic.egg-info\n",
      "hard linking markdownmagic.egg-info/requires.txt -> markdownmagic-0.1.0/markdownmagic.egg-info\n",
      "hard linking markdownmagic.egg-info/top_level.txt -> markdownmagic-0.1.0/markdownmagic.egg-info\n",
      "copying setup.cfg -> markdownmagic-0.1.0\n",
      "Writing markdownmagic-0.1.0/setup.cfg\n",
      "Creating tar archive\n",
      "removing 'markdownmagic-0.1.0' (and everything under it)\n",
      "running bdist_wheel\n",
      "running build\n",
      "running build_py\n",
      "installing to build/bdist.macosx-10.5-x86_64/wheel\n",
      "running install\n",
      "running install_lib\n",
      "creating build/bdist.macosx-10.5-x86_64/wheel\n",
      "copying build/lib/markdownmagic.py -> build/bdist.macosx-10.5-x86_64/wheel\n",
      "running install_egg_info\n",
      "running egg_info\n",
      "writing top-level names to markdownmagic.egg-info/top_level.txt\n",
      "writing dependency_links to markdownmagic.egg-info/dependency_links.txt\n",
      "writing markdownmagic.egg-info/PKG-INFO\n",
      "writing requirements to markdownmagic.egg-info/requires.txt\n",
      "reading manifest file 'markdownmagic.egg-info/SOURCES.txt'\n",
      "reading manifest template 'MANIFEST.in'\n",
      "warning: no files found matching '*.ipynb' under directory 'tests/'\n",
      "writing manifest file 'markdownmagic.egg-info/SOURCES.txt'\n",
      "Copying markdownmagic.egg-info to build/bdist.macosx-10.5-x86_64/wheel/markdownmagic-0.1.0-py3.5.egg-info\n",
      "running install_scripts\n",
      "creating build/bdist.macosx-10.5-x86_64/wheel/markdownmagic-0.1.0.dist-info/WHEEL\n",
      "running sdist\n",
      "running egg_info\n",
      "writing requirements to markdownmagic.egg-info/requires.txt\n",
      "writing top-level names to markdownmagic.egg-info/top_level.txt\n",
      "writing markdownmagic.egg-info/PKG-INFO\n",
      "writing dependency_links to markdownmagic.egg-info/dependency_links.txt\n",
      "reading manifest file 'markdownmagic.egg-info/SOURCES.txt'\n",
      "reading manifest template 'MANIFEST.in'\n",
      "warning: no files found matching '*.ipynb' under directory 'tests/'\n",
      "writing manifest file 'markdownmagic.egg-info/SOURCES.txt'\n",
      "running check\n",
      "creating markdownmagic-0.1.0\n",
      "creating markdownmagic-0.1.0/markdownmagic.egg-info\n",
      "making hard links in markdownmagic-0.1.0...\n",
      "hard linking Automation.ipynb -> markdownmagic-0.1.0\n",
      "hard linking LICENSE -> markdownmagic-0.1.0\n",
      "hard linking MANIFEST.in -> markdownmagic-0.1.0\n",
      "hard linking README.ipynb -> markdownmagic-0.1.0\n",
      "hard linking README.md -> markdownmagic-0.1.0\n",
      "hard linking README.rst -> markdownmagic-0.1.0\n",
      "hard linking creating-markdownmagic.ipynb -> markdownmagic-0.1.0\n",
      "hard linking markdownmagic.py -> markdownmagic-0.1.0\n",
      "hard linking setup.cfg -> markdownmagic-0.1.0\n",
      "hard linking setup.py -> markdownmagic-0.1.0\n",
      "hard linking markdownmagic.egg-info/PKG-INFO -> markdownmagic-0.1.0/markdownmagic.egg-info\n",
      "hard linking markdownmagic.egg-info/SOURCES.txt -> markdownmagic-0.1.0/markdownmagic.egg-info\n",
      "hard linking markdownmagic.egg-info/dependency_links.txt -> markdownmagic-0.1.0/markdownmagic.egg-info\n",
      "hard linking markdownmagic.egg-info/requires.txt -> markdownmagic-0.1.0/markdownmagic.egg-info\n",
      "hard linking markdownmagic.egg-info/top_level.txt -> markdownmagic-0.1.0/markdownmagic.egg-info\n",
      "copying setup.cfg -> markdownmagic-0.1.0\n",
      "Writing markdownmagic-0.1.0/setup.cfg\n",
      "Creating tar archive\n",
      "removing 'markdownmagic-0.1.0' (and everything under it)\n",
      "running upload\n",
      "Submitting dist/markdownmagic-0.1.0.tar.gz to https://pypi.python.org/pypi\n",
      "Server response (200): OK\n",
      "running bdist_wheel\n",
      "running build\n",
      "running build_py\n",
      "installing to build/bdist.macosx-10.5-x86_64/wheel\n",
      "running install\n",
      "running install_lib\n",
      "creating build/bdist.macosx-10.5-x86_64/wheel\n",
      "copying build/lib/markdownmagic.py -> build/bdist.macosx-10.5-x86_64/wheel\n",
      "running install_egg_info\n",
      "running egg_info\n",
      "writing top-level names to markdownmagic.egg-info/top_level.txt\n",
      "writing dependency_links to markdownmagic.egg-info/dependency_links.txt\n",
      "writing markdownmagic.egg-info/PKG-INFO\n",
      "writing requirements to markdownmagic.egg-info/requires.txt\n",
      "reading manifest file 'markdownmagic.egg-info/SOURCES.txt'\n",
      "reading manifest template 'MANIFEST.in'\n",
      "warning: no files found matching '*.ipynb' under directory 'tests/'\n",
      "writing manifest file 'markdownmagic.egg-info/SOURCES.txt'\n",
      "Copying markdownmagic.egg-info to build/bdist.macosx-10.5-x86_64/wheel/markdownmagic-0.1.0-py3.5.egg-info\n",
      "running install_scripts\n",
      "creating build/bdist.macosx-10.5-x86_64/wheel/markdownmagic-0.1.0.dist-info/WHEEL\n",
      "running upload\n",
      "Submitting /Users/tfast/jademagic/dist/markdownmagic-0.1.0-py2.py3-none-any.whl to https://pypi.python.org/pypi\n",
      "HTTP Error 500: Internal Server Error\n",
      "error: HTTP Error 500: Internal Server Error\n"
     ]
    }
   ],
   "source": [
    "!python setup.py register -r pypi\n",
    "!python setup.py sdist\n",
    "!python setup.py bdist_wheel\n",
    "!python setup.py sdist upload -r pypi\n",
    "!python setup.py bdist_wheel upload -r pypi"
   ]
  },
  {
   "cell_type": "code",
   "execution_count": null,
   "metadata": {
    "collapsed": true
   },
   "outputs": [],
   "source": [
    "# %load setup.py\n",
    "import os\n",
    "from setuptools import setup\n",
    "\n",
    "\n",
    "def read(fname):\n",
    "    \"\"\"\n",
    "    Utility function to read the README file.\n",
    "    Used for the long_description.  It's nice, because now 1) we have a top\n",
    "    level README file and 2) it's easier to type in the README file than to put\n",
    "    a raw string in below ...\n",
    "    \"\"\"\n",
    "    with open(os.path.join(os.path.dirname(__file__), fname)) as f:\n",
    "        return f.read()\n",
    "\n",
    "\n",
    "setup(\n",
    "    name=\"markdownmagic\",\n",
    "    version=\"0.1.0\",\n",
    "    author=\"Tony Fast\",\n",
    "    author_email=\"tony.fast@gmail.com\",\n",
    "    description=\"Literate Python Programming with Markdown Template Magic \",\n",
    "    license=\"BSD\",\n",
    "    keywords=\"IPython markdown commonmark jinja2 template Jupyter\",\n",
    "    url=\"http://github.com/tonyfast/markdownmagic\",\n",
    "    py_modules=[\"markdownmagic\"],\n",
    "    long_description=read(\"README.rst\"),\n",
    "    classifiers=[\n",
    "        \"Topic :: Utilities\",\n",
    "        \"Framework :: IPython\",\n",
    "        \"Natural Language :: English\",\n",
    "        \"Programming Language :: Python\",\n",
    "        \"Intended Audience :: Developers\",\n",
    "        \"Development Status :: 3 - Alpha\",\n",
    "        \"Operating System :: OS Independent\",\n",
    "        \"Programming Language :: Python :: 3\",\n",
    "        \"License :: OSI Approved :: BSD License\",\n",
    "        \"Topic :: Software Development :: Testing\",\n",
    "    ],\n",
    "    install_requires=[\n",
    "        \"jinja2\", \"mistune\",\n",
    "    ]\n",
    ")"
   ]
  },
  {
   "cell_type": "code",
   "execution_count": null,
   "metadata": {
    "collapsed": true
   },
   "outputs": [],
   "source": []
  }
 ],
 "metadata": {
  "kernelspec": {
   "display_name": "Python 3",
   "language": "python",
   "name": "python3"
  },
  "language_info": {
   "codemirror_mode": {
    "name": "ipython",
    "version": 3
   },
   "file_extension": ".py",
   "mimetype": "text/x-python",
   "name": "python",
   "nbconvert_exporter": "python",
   "pygments_lexer": "ipython3",
   "version": "3.5.1"
  }
 },
 "nbformat": 4,
 "nbformat_minor": 0
}
