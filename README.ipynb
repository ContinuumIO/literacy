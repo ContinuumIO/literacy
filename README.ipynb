{
 "cells": [
  {
   "cell_type": "code",
   "execution_count": 1,
   "metadata": {
    "collapsed": false
   },
   "outputs": [],
   "source": [
    "%reload_ext yamlmagic\n",
    "from literacy import Literate\n",
    "library = Literate()"
   ]
  },
  {
   "cell_type": "code",
   "execution_count": 2,
   "metadata": {
    "collapsed": false
   },
   "outputs": [
    {
     "data": {
      "application/javascript": [
       "\n",
       "            require(\n",
       "                [\n",
       "                    \"notebook/js/codecell\",\n",
       "                    \"codemirror/mode/yaml/yaml\"\n",
       "                ],\n",
       "                function(cc){\n",
       "                    cc.CodeCell.options_default.highlight_modes.magic_yaml = {\n",
       "                        reg: [\"^%%yaml\"]\n",
       "                    }\n",
       "                }\n",
       "            );\n",
       "            "
      ],
      "text/plain": [
       "<IPython.core.display.Javascript object>"
      ]
     },
     "metadata": {},
     "output_type": "display_data"
    },
    {
     "data": {
      "application/javascript": [
       "(\n",
       "            window._yaml ? window._yaml : window._yaml = {}\n",
       "        )[\"ref\"] = {\"jinja2\": null, \"jupyter\": null};"
      ],
      "text/plain": [
       "<IPython.core.display.Javascript object>"
      ]
     },
     "metadata": {},
     "output_type": "display_data"
    }
   ],
   "source": [
    "%%yaml ref\n",
    "jupyter:\n",
    "jinja2: "
   ]
  },
  {
   "cell_type": "code",
   "execution_count": 3,
   "metadata": {
    "collapsed": false
   },
   "outputs": [
    {
     "data": {
      "text/html": [
       "\n",
       "<h1><code>Literacy</code></h1><p><code>Literacy</code> assists in creating static and interactive data-driven documents with Jupyter notebooks.</p>\n",
       "<hr><pre><code class=\"lang-%%bash\">pip install git+https://github.com/tonyfast/literacy --upgrade\n",
       "</code></pre><hr><h2>Initialize <code>literate</code> magic</h2><p>Initialize the <code>literate</code> magic in a code cell in the Jupyter notebook.</p>\n",
       "<hr><pre><code class=\"lang-python\">library = Literate()\n",
       "</code></pre><hr><p>The Literate <code>library</code> contains a <a href=\"\"><code>jinja2</code></a> templating environment\n",
       "that is used for all of the <code>%%literate</code> cells.  The templating environment allows <code>jinja2</code>\n",
       "to access variables in your current notebook.</p>"
      ],
      "text/plain": [
       "<literacy.LiterateDisplay object>"
      ]
     },
     "execution_count": 3,
     "metadata": {},
     "output_type": "execute_result"
    }
   ],
   "source": [
    "%%literate intro\n",
    "\n",
    "# `Literacy`\n",
    "\n",
    "`Literacy` assists in creating static and interactive data-driven documents with Jupyter notebooks. \n",
    "\n",
    "```%%bash\n",
    "pip install git+https://github.com/tonyfast/literacy --upgrade\n",
    "```\n",
    "\n",
    "## Initialize ``literate`` magic\n",
    "\n",
    "Initialize the ``literate`` magic in a code cell in the Jupyter notebook.\n",
    "\n",
    "```python\n",
    "library = Literate()\n",
    "```\n",
    "\n",
    "The Literate ``library`` contains a [``jinja2``]({{ref['jinja']}}) templating environment\n",
    "that is used for all of the ``%%literate`` cells.  The templating environment allows ``jinja2``\n",
    "to access variables in your current notebook."
   ]
  },
  {
   "cell_type": "code",
   "execution_count": 4,
   "metadata": {
    "collapsed": false
   },
   "outputs": [
    {
     "data": {
      "text/html": [
       "\n",
       "<h1>Using <code>literate</code> magic</h1><p>Literate magics start with <code>%%literate</code>.  The body of the cell is markdown.  Markdown code fences \n",
       "are executed as code if the <code>library</code> corresponding to the language.</p>\n",
       "<hr><pre><code class=\"lang-python\">default_filters = [k.lstrip('execute_') for k in library.env.filters.keys() if k.startswith('execute_')]\n",
       "num_filters = len(default_filters)\n",
       "</code></pre><hr><h3>Default filters</h3><p>The 2 default filters are:</p><ul>\n",
       "\n",
       "<li>javascript</li>\n",
       "\n",
       "<li>python</li>\n",
       "\n",
       "</ul>"
      ],
      "text/plain": [
       "<literacy.LiterateDisplay object>"
      ]
     },
     "execution_count": 4,
     "metadata": {},
     "output_type": "execute_result"
    }
   ],
   "source": [
    "%%literate usage\n",
    "\n",
    "# Using `literate` magic\n",
    "\n",
    "Literate magics start with ``%%literate``.  The body of the cell is markdown.  Markdown code fences \n",
    "are executed as code if the ``library`` corresponding to the language.  \n",
    "\n",
    "```python\n",
    "default_filters = [k.lstrip('execute_') for k in library.env.filters.keys() if k.startswith('execute_')]\n",
    "num_filters = len(default_filters)\n",
    "```\n",
    "\n",
    "### Default filters\n",
    "\n",
    "The {{num_filters}} default filters are:\n",
    "\n",
    "<ul>\n",
    "{% for f in default_filters %}\n",
    "<li>{{f}}</li>\n",
    "{% endfor %}\n",
    "</ul>"
   ]
  },
  {
   "cell_type": "code",
   "execution_count": 5,
   "metadata": {
    "collapsed": true
   },
   "outputs": [],
   "source": [
    "import pyperclip\n",
    "pyperclip.copy(intro.data + '\\n' + usage.data)"
   ]
  },
  {
   "cell_type": "code",
   "execution_count": null,
   "metadata": {
    "collapsed": true
   },
   "outputs": [],
   "source": []
  }
 ],
 "metadata": {
  "kernelspec": {
   "display_name": "Python [Root]",
   "language": "python",
   "name": "Python [Root]"
  },
  "language_info": {
   "codemirror_mode": {
    "name": "ipython",
    "version": 3
   },
   "file_extension": ".py",
   "mimetype": "text/x-python",
   "name": "python",
   "nbconvert_exporter": "python",
   "pygments_lexer": "ipython3",
   "version": "3.5.1"
  }
 },
 "nbformat": 4,
 "nbformat_minor": 0
}
