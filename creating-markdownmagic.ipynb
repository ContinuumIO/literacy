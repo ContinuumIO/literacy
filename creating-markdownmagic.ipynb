{
 "cells": [
  {
   "cell_type": "code",
   "execution_count": 1,
   "metadata": {
    "collapsed": true
   },
   "outputs": [],
   "source": [
    "%reload_ext yamlmagic"
   ]
  },
  {
   "cell_type": "code",
   "execution_count": 2,
   "metadata": {
    "collapsed": false
   },
   "outputs": [
    {
     "data": {
      "application/javascript": [
       "\n",
       "            require(\n",
       "                [\n",
       "                    \"notebook/js/codecell\",\n",
       "                    \"codemirror/mode/yaml/yaml\"\n",
       "                ],\n",
       "                function(cc){\n",
       "                    cc.CodeCell.options_default.highlight_modes.magic_yaml = {\n",
       "                        reg: [\"^%%yaml\"]\n",
       "                    }\n",
       "                }\n",
       "            );\n",
       "            "
      ],
      "text/plain": [
       "<IPython.core.display.Javascript object>"
      ]
     },
     "metadata": {},
     "output_type": "display_data"
    },
    {
     "data": {
      "application/javascript": [
       "(\n",
       "            window._yaml ? window._yaml : window._yaml = {}\n",
       "        )[\"starting_links\"] = [\"https://github.com/bollwyvl/jademagic\", \"http://nbviewer.jupyter.org/urls/gist.githubusercontent.com/tonyfast/62e0d05a85c06f1938d1f8c17cef6dee/raw/2bd7f1d033d05c8c9a6741e47f0fb3eda26eedbe/mdmagic.ipynb\"];"
      ],
      "text/plain": [
       "<IPython.core.display.Javascript object>"
      ]
     },
     "metadata": {},
     "output_type": "display_data"
    }
   ],
   "source": [
    "%%yaml starting_links\n",
    "- https://github.com/bollwyvl/jademagic\n",
    "- http://nbviewer.jupyter.org/urls/gist.githubusercontent.com/tonyfast/62e0d05a85c06f1938d1f8c17cef6dee/raw/2bd7f1d033d05c8c9a6741e47f0fb3eda26eedbe/mdmagic.ipynb"
   ]
  },
  {
   "cell_type": "code",
   "execution_count": null,
   "metadata": {
    "collapsed": true
   },
   "outputs": [],
   "source": []
  },
  {
   "cell_type": "code",
   "execution_count": 15,
   "metadata": {
    "collapsed": false
   },
   "outputs": [
    {
     "data": {
      "text/plain": [
       "'2.8'"
      ]
     },
     "execution_count": 15,
     "metadata": {},
     "output_type": "execute_result"
    }
   ],
   "source": [
    "import jinja2\n",
    "jinja2.__version__"
   ]
  },
  {
   "cell_type": "code",
   "execution_count": 24,
   "metadata": {
    "collapsed": true
   },
   "outputs": [],
   "source": [
    "%reload_ext jademagic"
   ]
  },
  {
   "cell_type": "code",
   "execution_count": 85,
   "metadata": {
    "collapsed": false
   },
   "outputs": [
    {
     "name": "stdout",
     "output_type": "stream",
     "text": [
      "Overwriting markdownmagic.py\n"
     ]
    }
   ],
   "source": [
    "%%file markdownmagic.py\n",
    "from __future__ import print_function\n",
    "\n",
    "from IPython import get_ipython\n",
    "\n",
    "import IPython\n",
    "\n",
    "from IPython.core import magic_arguments\n",
    "\n",
    "from IPython.core.magic import (\n",
    "    Magics,\n",
    "    magics_class,\n",
    "    cell_magic,\n",
    ")\n",
    "\n",
    "from jinja2 import (\n",
    "    Environment,\n",
    "    DictLoader,\n",
    ")\n",
    "\n",
    "import mistune\n",
    "from mistune import (\n",
    "    Renderer,\n",
    ")\n",
    "\n",
    "import yaml\n",
    "\n",
    "__version_info__ = (0, 1, 0)\n",
    "__version__ = '.'.join(map(str, __version_info__))\n",
    "\n",
    "\n",
    "class LiterateRenderer(Renderer):\n",
    "    \"\"\"Executes code for on Markdown code fences for the language ``python``\"\"\"\n",
    "    def __init__(self, ip, *args, **kwargs):\n",
    "        self.ip = ip\n",
    "        super().__init__(*args, **kwargs)\n",
    "\n",
    "    def block_code(self, text, lang):\n",
    "        if lang in ['python']:\n",
    "            self.ip.run_code(text)\n",
    "        return super().block_code(text, lang)\n",
    "\n",
    "\n",
    "class MarkdownerTemplate(IPython.core.display.Markdown):\n",
    "    def __init__(\n",
    "        self,\n",
    "        env=Environment(),\n",
    "        ip=get_ipython(),\n",
    "        frontmatter=\"\"\"\"\"\",\n",
    "        *args,\n",
    "        **kwargs\n",
    "    ):\n",
    "        self.env = env\n",
    "        self.ip = ip\n",
    "        self.frontmatter = frontmatter\n",
    "        super().__init__(*args, **kwargs)\n",
    "        if self.frontmatter:\n",
    "            self.frontmatter = yaml.load(\n",
    "                self.env.from_string(\n",
    "                    self.frontmatter\n",
    "                ).render(self.ip.user_ns)\n",
    "            )\n",
    "        else:\n",
    "            self.frontmatter = {}\n",
    "        self.template = self.env.from_string(self.data)\n",
    "\n",
    "    def __add__(self, payload):\n",
    "        if payload in ['*']:\n",
    "            payload = self.ip.user_ns\n",
    "        return self.template.render(**payload)\n",
    "\n",
    "    def __mul__(self, payload):\n",
    "        return '\\n'.join([self.template.render(**load) for load in payload])\n",
    "\n",
    "    def _repr_markdown_(self):\n",
    "        self.env.filters['mistune_renderer'](self.data)\n",
    "        return self + {**self.frontmatter, **self.ip.user_ns}\n",
    "\n",
    "\n",
    "@magics_class\n",
    "class environment(Magics):\n",
    "    \"\"\"\n",
    "    Literate Python in using Markdown.\n",
    "\n",
    "    Example:\n",
    "\n",
    "        %%markdown\n",
    "        # This is a title with {{data}}\n",
    "    \"\"\"\n",
    "    ip = get_ipython()\n",
    "\n",
    "    def __init__(self, env=Environment(loader=DictLoader({}))):\n",
    "        self.env = env\n",
    "        self.env.filters['mistune_renderer'] = mistune.Markdown(\n",
    "            renderer=LiterateRenderer(ip=self.ip, escape=False)\n",
    "        )\n",
    "        super().__init__()\n",
    "        self.ip.register_magics(self)\n",
    "\n",
    "    @cell_magic\n",
    "    @magic_arguments.magic_arguments()\n",
    "    @magic_arguments.argument(\n",
    "        \"name\",\n",
    "        default=None,\n",
    "        nargs=\"?\",\n",
    "        help=\"\"\"Name of local variable to set to parsed value\"\"\"\n",
    "    )\n",
    "    def markdown(self, line, cell):\n",
    "        line = line.strip()\n",
    "        args = magic_arguments.parse_argstring(self.markdown, line)\n",
    "        if cell.startswith('---'):\n",
    "            frontmatter, cell = cell.lstrip('---').split('---', 1)\n",
    "        else:\n",
    "            frontmatter = {}\n",
    "        try:\n",
    "            # Literate python execution\n",
    "            display = MarkdownerTemplate(\n",
    "                self.env,\n",
    "                self.ip,\n",
    "                frontmatter,\n",
    "                data=cell\n",
    "            )\n",
    "        except Exception as err:\n",
    "            print(err)\n",
    "            return\n",
    "\n",
    "        if args.name:\n",
    "            self.ip.user_ns[args.name] = display\n",
    "        return display\n",
    "\n"
   ]
  },
  {
   "cell_type": "code",
   "execution_count": 86,
   "metadata": {
    "collapsed": false
   },
   "outputs": [
    {
     "name": "stdout",
     "output_type": "stream",
     "text": [
      "/Users/tfast/jademagic\r\n"
     ]
    }
   ],
   "source": [
    "!pwd"
   ]
  },
  {
   "cell_type": "code",
   "execution_count": null,
   "metadata": {
    "collapsed": true
   },
   "outputs": [],
   "source": []
  },
  {
   "cell_type": "markdown",
   "metadata": {
    "collapsed": true
   },
   "source": [
    "# Go through files one by one and make changes.\n",
    "\n",
    "- ``Automation.ipynb`` - * no changes *\n",
    "- ``LICENSE`` - * change to my name*\n",
    "- ``MANIFEST.in`` - * no changes *\n",
    "- ``README.md`` - Made it relevent to markdownamagic\n",
    "- ``requirements.txt`` - import jinja2, mistune, and yamlmagic\n",
    "- ``setup.py`` - Change metadata and personal dataa"
   ]
  },
  {
   "cell_type": "markdown",
   "metadata": {},
   "source": [
    "> Copy Markdown Magic from the Notebook"
   ]
  },
  {
   "cell_type": "code",
   "execution_count": null,
   "metadata": {
    "collapsed": true
   },
   "outputs": [],
   "source": [
    "\"\"\"These code below creates the markdown magics class.\"\"\"\n",
    "import mistune, IPython, jinja2\n",
    "\n",
    "class LiterateRenderer(mistune.Renderer):\n",
    "    \"\"\"Executes code for on Markdown code fences for the language ``python``\"\"\"\n",
    "    def __init__( self, ip, *args, **kwargs):\n",
    "        self.ip = ip\n",
    "        super().__init__(*args, **kwargs)\n",
    "\n",
    "    def block_code( self, text, lang ):\n",
    "        if lang in ['python']:\n",
    "            self.ip.run_code(text)\n",
    "        return super().block_code( text, lang )\n",
    "\n",
    "class MarkdownerTemplate( IPython.core.display.Markdown ):\n",
    "    import yaml\n",
    "    def __init__( self, env = jinja2.Environment(), ip=IPython.get_ipython(), frontmatter=\"\"\"\"\"\", *args, **kwargs):\n",
    "        self.env = env\n",
    "        self.ip = ip\n",
    "        self.frontmatter = frontmatter\n",
    "        super().__init__(*args, **kwargs)\n",
    "        if self.frontmatter:\n",
    "            self.frontmatter = self.yaml.load(self.env.from_string( self.frontmatter ).render( self.ip.user_ns ))\n",
    "        else:\n",
    "            self.frontmatter = {}\n",
    "        self.template = self.env.from_string( self.data )\n",
    "\n",
    "    def __add__( self, payload ):\n",
    "        if payload in ['*']:\n",
    "            payload = self.ip.user_ns\n",
    "        return self.template.render( **payload )\n",
    "    def __mul__( self, payload ):\n",
    "        return '\\n'.join([self.template.render(**load) for load in payload ])\n",
    "        \n",
    "    def _repr_markdown_( self ):\n",
    "        mistune.markdown( self.data, renderer = LiterateRenderer(ip=self.ip,escape=False) )\n",
    "        return self + {**self.frontmatter, **self.ip.user_ns}\n",
    "\n",
    "@IPython.core.magic.magics_class\n",
    "class MarkdownMagic(IPython.core.magic.Magics):\n",
    "    import jinja2, yaml\n",
    "    ip = get_ipython()    \n",
    "    def __init__( self, env = self.jinja2.Environment(loader=jinja2.DictLoader({})) ):\n",
    "        self.env = env\n",
    "        super().__init__()\n",
    "        self.ip.register_magics(self)\n",
    "        \n",
    "    @IPython.core.magic.cell_magic\n",
    "    @IPython.core.magic_arguments.magic_arguments()\n",
    "    @IPython.core.magic_arguments.argument( \"name\", default=\"\"\"\"\"\", nargs=\"?\", help=\"\"\"Name of local variable to set to parsed value\"\"\")\n",
    "    def markdown(self, line, cell):\n",
    "        line = line.strip()\n",
    "        args = IPython.core.magic_arguments.parse_argstring(self.markdown, line)\n",
    "        if cell.startswith('---'):\n",
    "            frontmatter, cell = cell.lstrip('---').split('---',1)\n",
    "        else: \n",
    "            frontmatter = {}\n",
    "        display = MarkdownerTemplate( self.env, self.ip, frontmatter, data=cell ) # Literate python execution\n",
    "        if args.name:\n",
    "            self.ip.user_ns[args.name] = display\n",
    "        return display"
   ]
  }
 ],
 "metadata": {
  "kernelspec": {
   "display_name": "Python 3",
   "language": "python",
   "name": "python3"
  },
  "language_info": {
   "codemirror_mode": {
    "name": "ipython",
    "version": 3
   },
   "file_extension": ".py",
   "mimetype": "text/x-python",
   "name": "python",
   "nbconvert_exporter": "python",
   "pygments_lexer": "ipython3",
   "version": "3.5.1"
  }
 },
 "nbformat": 4,
 "nbformat_minor": 0
}
