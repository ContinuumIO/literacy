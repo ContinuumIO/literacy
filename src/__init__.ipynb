{
 "cells": [
  {
   "cell_type": "markdown",
   "metadata": {
    "variables": {
     "b": {},
     "foo": {},
     "foo.bar": {}
    }
   },
   "source": [
    "# `literacy`\n",
    "\n",
    "Literate creates a the magic `%%literate` thats allows cells to written in\n",
    "literate markdown.\n",
    "\n",
    "## Quickstart\n",
    "\n",
    "Literacy exposes `%%literate` as a cell magic in the IPython notebook.\n",
    "\n",
    "    from literacy import Literate\n",
    "    Literate()\n",
    "\n",
    "## Usage\n",
    "\n",
    "    %%literate\n",
    "    # This is markdown\n",
    "\n",
    "        foo = {'bar': 'baz'}\n",
    "        print(\"\\\"\"This indented code block will be\n",
    "        executed as Python and define define a variable `foo`\"\\\"\")\n",
    "\n",
    "    # `literate` cells are templates\n",
    "\n",
    "    Templates allow data to be directly placed into markdown, html, or code. The\n",
    "    value of `bar` in `foo` is {{foo.bar}}.\n",
    "\n",
    "        # Templates can be used in code\n",
    "        b = \"{{foo.bar}}\"*5\n",
    "\n",
    "    This is a longer version of `foo.bar` is `{{b}}` without effecting {{foo}}.\n"
   ]
  },
  {
   "cell_type": "raw",
   "metadata": {},
   "source": [
    "from .magic import (\n",
    "    Literate,\n",
    ")"
   ]
  }
 ],
 "metadata": {
  "anaconda-cloud": {},
  "kernelspec": {
   "display_name": "Python [Root]",
   "language": "python",
   "name": "Python [Root]"
  },
  "language_info": {
   "codemirror_mode": {
    "name": "ipython",
    "version": 3
   },
   "file_extension": ".py",
   "mimetype": "text/x-python",
   "name": "python",
   "nbconvert_exporter": "python",
   "pygments_lexer": "ipython3",
   "version": "3.5.1"
  },
  "widgets": {
   "state": {},
   "version": "1.1.0"
  }
 },
 "nbformat": 4,
 "nbformat_minor": 0
}
