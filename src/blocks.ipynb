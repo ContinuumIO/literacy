{
 "cells": [
  {
   "cell_type": "markdown",
   "metadata": {},
   "source": [
    "Literacy uses cell magics.\n",
    "\n",
    "Each cell is a core `IPython` display object."
   ]
  },
  {
   "cell_type": "raw",
   "metadata": {},
   "source": [
    "from IPython.display import (\n",
    "    HTML,\n",
    ")"
   ]
  },
  {
   "cell_type": "markdown",
   "metadata": {},
   "source": []
  },
  {
   "cell_type": "raw",
   "metadata": {},
   "source": [
    "class Cell(HTML):\n",
    "    \"\"\"Cell is the base class for each cell display.\n",
    "\n",
    "    ## Input Arguments\n",
    "\n",
    "    * `cell` - An existing `Cell` object.\n",
    "    * `source` - The source code of the cell.\n",
    "    \"\"\"\n",
    "    id = \"\"\"\"\"\"\n",
    "    classes = \"\"\"\"\"\"\n",
    "    def __init__(self, cell, source):\n",
    "        self.env = cell.env\n",
    "        self.raw = source\n",
    "        self.macro = self.env.macros['default']\n",
    "        if self.macro_name in self.env.macros:\n",
    "            self.macro = self.env.macros[self.macro_name]\n",
    "        super().__init__(source)\n",
    "        self.render()"
   ]
  },
  {
   "cell_type": "markdown",
   "metadata": {},
   "source": []
  },
  {
   "cell_type": "raw",
   "metadata": {},
   "source": [
    "class Block(Cell):\n",
    "    \"\"\"A Block is either indented or fenced code or html/markdown.\n",
    "    \"\"\"\n",
    "    fenced = False\n",
    "    macro_name = 'default'\n",
    "    def __init__(self, cell, source):\n",
    "        self.parent = cell\n",
    "        self.raw = source\n",
    "        super().__init__(cell, source)\n",
    "\n",
    "    def compile(self, source=None):\n",
    "        \"\"\"This function is called by `render`.  Template the source code of the block.\n",
    "\n",
    "        If the macro is the kernel language then it is executed.\n",
    "        \"\"\"\n",
    "        source = self.raw if not source else source\n",
    "        self.source = self.env.from_string(source).render(**self.parent.frontmatter)\n",
    "        if self.macro_name in [self.env.kernel_name]:\n",
    "            self.env.kernel(self.source)\n",
    "\n",
    "    def render(self, **data):\n",
    "        \"\"\"Assign the `data` attribute inherited by the `IPython.display.HTML` object.\n",
    "        \"\"\"\n",
    "        self.compile()\n",
    "        self.data = self.macro.render(block=self, **data)\n",
    "        return self.data"
   ]
  },
  {
   "cell_type": "markdown",
   "metadata": {},
   "source": []
  },
  {
   "cell_type": "raw",
   "metadata": {},
   "source": [
    "class NormalBlock(Block):\n",
    "    \"\"\"A markdown cell that injects data through jinja.  Markdown can be escaped\n",
    "    using `<html>` tags.\n",
    "    \"\"\"\n",
    "    macro_name = 'markdown'\n",
    "    pass"
   ]
  },
  {
   "cell_type": "markdown",
   "metadata": {},
   "source": []
  },
  {
   "cell_type": "raw",
   "metadata": {},
   "source": [
    "class FenceBlock(Block):\n",
    "    \"\"\"A gfm styled code fence.\n",
    "\n",
    "    ### Example\n",
    "\n",
    "        ```macro_name\n",
    "        This is some code.\n",
    "        ```\n",
    "    \"\"\"\n",
    "    fenced = True\n",
    "    def __init__(self, cell, source = ''):\n",
    "        self.macro_name = source.split('\\n',1)[0].lstrip('```').strip()\n",
    "        super().__init__(cell, source)\n",
    "\n",
    "    def compile(self):\n",
    "        super().compile('\\n'.join(self.raw.strip().split('\\n')[1:-1]))"
   ]
  },
  {
   "cell_type": "markdown",
   "metadata": {},
   "source": []
  },
  {
   "cell_type": "raw",
   "metadata": {},
   "source": [
    "class IndentBlock( Block ):\n",
    "    \"\"\"An indented code block.  These code blocks are executed by the kernel.\n",
    "    \"\"\"\n",
    "    def __init__(self, cell, source =''):\n",
    "        self.macro_name = cell.env.kernel_name\n",
    "        super().__init__(cell, source)"
   ]
  },
  {
   "cell_type": "markdown",
   "metadata": {},
   "source": []
  },
  {
   "cell_type": "raw",
   "metadata": {},
   "source": [
    "class ParentCell(Block):\n",
    "    \"\"\"The main cell.\n",
    "    \"\"\"\n",
    "    indent = 8\n",
    "    filename = \"\"\n",
    "    frontmatter = {}\n",
    "    def __init__(self, env, source):\n",
    "        self.env = env\n",
    "        self.env.globals['this'] = self\n",
    "        self.blocks = []\n",
    "        self.raw = source\n",
    "        if source.startswith('---'):\n",
    "            tmp, self.raw = self.raw.lstrip('---').split('---',1)\n",
    "            self.frontmatter  = yaml.load(tmp)\n",
    "        self.render()\n",
    "\n",
    "    def render(self):\n",
    "        self.data = \"\"\n",
    "        for ct, fence in enumerate(self.raw.split('```')):\n",
    "            if (ct % 2) == 1:\n",
    "                \"\"\"ct=0 is false\"\"\"\n",
    "                self.blocks.append(FenceBlock(self,\"```{}```\".format(fence)))\n",
    "                self.data += self.blocks[-1].data\n",
    "            else:\n",
    "                rendered_markdown = self.env.preprocessor(fence)\n",
    "                \"\"\"Discover basic idented code blocks\"\"\"\n",
    "                indent_blocks = rendered_markdown.replace('</code></pre>','<pre><code>').split('<pre><code>')\n",
    "                for ct_md, block in enumerate(indent_blocks):\n",
    "                    if (ct_md % 2) == 1:\n",
    "                        self.blocks.append(IndentBlock(self,block))\n",
    "                    else:\n",
    "                        self.blocks.append(NormalBlock(self,block))\n",
    "                    self.data += self.blocks[-1].data\n",
    "        return self.data"
   ]
  }
 ],
 "metadata": {
  "anaconda-cloud": {},
  "kernelspec": {
   "display_name": "Python [Root]",
   "language": "python",
   "name": "Python [Root]"
  },
  "language_info": {
   "codemirror_mode": {
    "name": "ipython",
    "version": 3
   },
   "file_extension": ".py",
   "mimetype": "text/x-python",
   "name": "python",
   "nbconvert_exporter": "python",
   "pygments_lexer": "ipython3",
   "version": "3.5.1"
  },
  "widgets": {
   "state": {},
   "version": "1.1.0"
  }
 },
 "nbformat": 4,
 "nbformat_minor": 0
}
