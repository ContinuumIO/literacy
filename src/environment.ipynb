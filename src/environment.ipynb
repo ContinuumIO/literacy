{
 "cells": [
  {
   "cell_type": "markdown",
   "metadata": {},
   "source": [
    "# About `environment.py`\n",
    "\n",
    "The jinja2 environment behind the literate magics."
   ]
  },
  {
   "cell_type": "raw",
   "metadata": {},
   "source": [
    "from .macro import (\n",
    "    Macros,\n",
    ")\n",
    "from jinja2 import (\n",
    "    Template,\n",
    "    Environment,\n",
    "    DictLoader,\n",
    "    FunctionLoader,\n",
    "    PrefixLoader,\n",
    "    PackageLoader,\n",
    "    FileSystemLoader,\n",
    ")\n",
    "from mistune import (\n",
    "    Markdown,\n",
    "    Renderer,\n",
    ")"
   ]
  },
  {
   "cell_type": "markdown",
   "metadata": {},
   "source": [
    "The `render` behavior will include the global contexts of the notebook and jinja2 environment."
   ]
  },
  {
   "cell_type": "raw",
   "metadata": {},
   "source": [
    "class GlobalsTemplate(Template):\n",
    "    def render(self, **data):\n",
    "        \"\"\"Attach globally variables to the render function.\n",
    "        \"\"\"\n",
    "        env = self.environment\n",
    "        data.update( env.globals )\n",
    "        data.update( env.ip.user_ns  )\n",
    "        return super().render(**data)"
   ]
  },
  {
   "cell_type": "markdown",
   "metadata": {},
   "source": [
    "`LiterateEnvironment` connects the cell contents with macros and template rending. "
   ]
  },
  {
   "cell_type": "raw",
   "metadata": {},
   "source": [
    "class LiterateEnvironment( Environment ):\n",
    "    from IPython import(\n",
    "        get_ipython,\n",
    "    )\n",
    "    preprocessor = Markdown(renderer=Renderer(escape=False))\n",
    "    def __init__(self, *args, **kwargs):\n",
    "        super().__init__( loader = PrefixLoader({\n",
    "                    'default': PackageLoader('literacy','/tmpl') ,\n",
    "                    'macro': PackageLoader('literacy','/tmpl/macro') ,\n",
    "                    'custom': DictLoader({}),\n",
    "                }), *args, **kwargs)\n",
    "        self.kernel_name = 'python'"
   ]
  },
  {
   "cell_type": "markdown",
   "metadata": {},
   "source": [
    "This template injects global variables into template."
   ]
  },
  {
   "cell_type": "raw",
   "metadata": {},
   "source": [
    "        self.template_class = GlobalsTemplate"
   ]
  },
  {
   "cell_type": "markdown",
   "metadata": {},
   "source": []
  },
  {
   "cell_type": "raw",
   "metadata": {},
   "source": [
    "        self.ip = get_ipython()\n",
    "        "
   ]
  },
  {
   "cell_type": "markdown",
   "metadata": {},
   "source": [
    "Macros allow user defined behaviors and views of code including Markdown."
   ]
  },
  {
   "cell_type": "raw",
   "metadata": {},
   "source": [
    "        self.macros = Macros(env=self)\n",
    "        self.macro('python')\n",
    "        self.macro('default')\n",
    "        self.macro('markdown', html=self.preprocessor)"
   ]
  },
  {
   "cell_type": "markdown",
   "metadata": {},
   "source": [
    "This is how literate executes code.  The kernel exeucted before a template renders."
   ]
  },
  {
   "cell_type": "raw",
   "metadata": {},
   "source": [
    "    @property\n",
    "    def kernel(self):\n",
    "        return self.ip.run_cell"
   ]
  },
  {
   "cell_type": "markdown",
   "metadata": {},
   "source": [
    "Conviently add a new macro."
   ]
  },
  {
   "cell_type": "raw",
   "metadata": {},
   "source": [
    "    def macro(self, *args, **kwargs):\n",
    "        return self.macros.macro(*args, **kwargs)"
   ]
  },
  {
   "cell_type": "markdown",
   "metadata": {},
   "source": [
    "A convenience function to render a list of blocks in a cell."
   ]
  },
  {
   "cell_type": "raw",
   "metadata": {},
   "source": [
    "    def render_cell( self, cell ):\n",
    "        cell.data = \"\"\"\"\"\"\n",
    "        for block in cell.blocks:\n",
    "            cell.data += block.render()\n",
    "        return cell"
   ]
  }
 ],
 "metadata": {
  "anaconda-cloud": {},
  "kernelspec": {
   "display_name": "Python [Root]",
   "language": "python",
   "name": "Python [Root]"
  },
  "language_info": {
   "codemirror_mode": {
    "name": "ipython",
    "version": 3
   },
   "file_extension": ".py",
   "mimetype": "text/x-python",
   "name": "python",
   "nbconvert_exporter": "python",
   "pygments_lexer": "ipython3",
   "version": "3.5.1"
  },
  "widgets": {
   "state": {},
   "version": "1.1.0"
  }
 },
 "nbformat": 4,
 "nbformat_minor": 0
}
