{
 "cells": [
  {
   "cell_type": "raw",
   "metadata": {},
   "source": [
    "class Macro():\n",
    "    def __init__(self, env, template_name = 'macro/default.html', **kwargs):\n",
    "        self.methods = {\n",
    "            'source': lambda s: s,\n",
    "        }\n",
    "        self.env = env\n",
    "        self.methods.update(kwargs)\n",
    "        self.template_name = template_name\n",
    "\n",
    "    def render(self, block, **data):\n",
    "        macro_tokens = {}\n",
    "        for key, macro_function in self.methods.items():\n",
    "            if not key in [self.env.kernel]:\n",
    "                macro_tokens[key] = macro_function(block.source) if macro_function else \"\"\n",
    "        return self.template.render(block=block,**macro_tokens, **data)"
   ]
  },
  {
   "cell_type": "markdown",
   "metadata": {},
   "source": []
  },
  {
   "cell_type": "raw",
   "metadata": {},
   "source": [
    "    @property\n",
    "    def template(self):\n",
    "        return self.env.get_template(self.template_name)"
   ]
  },
  {
   "cell_type": "markdown",
   "metadata": {},
   "source": []
  },
  {
   "cell_type": "raw",
   "metadata": {},
   "source": [
    "class Macros(dict):\n",
    "    def __init__(self, env):\n",
    "        self.env = env\n",
    "        self.macro('javascript',aliases=['js'], script=lambda s: s)\n",
    "        self.macro('css', style=lambda s: s)\n",
    "\n",
    "    def macro(self, macro_name, aliases=[], *args, **kwargs):\n",
    "        self[macro_name] = Macro(self.env, *args, **kwargs)\n",
    "        self[macro_name].name = macro_name\n",
    "        self[macro_name].aliases = aliases\n",
    "        for alias in aliases:\n",
    "            self[alias] = self[macro_name]"
   ]
  }
 ],
 "metadata": {
  "anaconda-cloud": {},
  "kernelspec": {
   "display_name": "Python [Root]",
   "language": "python",
   "name": "Python [Root]"
  },
  "language_info": {
   "codemirror_mode": {
    "name": "ipython",
    "version": 3
   },
   "file_extension": ".py",
   "mimetype": "text/x-python",
   "name": "python",
   "nbconvert_exporter": "python",
   "pygments_lexer": "ipython3",
   "version": "3.5.1"
  },
  "widgets": {
   "state": {},
   "version": "1.1.0"
  }
 },
 "nbformat": 4,
 "nbformat_minor": 0
}
