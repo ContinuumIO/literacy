{
 "cells": [
  {
   "cell_type": "markdown",
   "metadata": {},
   "source": [
    "# About `magic.py`\n",
    "\n",
    "Initialize `%%literate` magic.\n",
    "\n",
    "## Syntax\n",
    "\n",
    "### Basic\n",
    "\n",
    "    from literate import Literacy\n",
    "    Literacy()\n",
    "\n",
    "## Examples\n",
    "\n",
    "\n",
    "## Input Arguments\n",
    "\n",
    "- `macros` -\n",
    "- `templates` -\n",
    "\n",
    "## See Also"
   ]
  },
  {
   "cell_type": "raw",
   "metadata": {},
   "source": [
    "from .blocks import (\n",
    "    ParentCell,\n",
    ")\n",
    "from .environment import (\n",
    "    LiterateEnvironment,\n",
    ")\n",
    "from IPython.core import magic_arguments\n",
    "from IPython.core.magic import (\n",
    "    Magics,\n",
    "    magics_class,\n",
    "    cell_magic,\n",
    ")\n",
    "from traitlets import (\n",
    "    Dict,\n",
    ")"
   ]
  },
  {
   "cell_type": "markdown",
   "metadata": {},
   "source": []
  },
  {
   "cell_type": "raw",
   "metadata": {},
   "source": [
    "@magics_class\n",
    "class Literate(Magics):\n",
    "    files=Dict()\n",
    "    languages=Dict()  #List of lanuages\n",
    "    def __init__(self,\n",
    "        namespace:str= 'library',\n",
    "        macros={},\n",
    "        templates={},\n",
    "        *args,\n",
    "        **kwargs\n",
    "    ):\n",
    "        \"\"\"Created and name a templating environment.  Initialize the magic.\"\"\"\n",
    "        super(Literate,self).__init__(*args, **kwargs)\n",
    "        self.env=LiterateEnvironment(**kwargs)\n",
    "        self.env.macros.update(macros)\n",
    "        self.env.loader.mapping['custom'].mapping.update(templates)\n",
    "        self.namespace=namespace\n",
    "        self._register_magic()\n",
    "\n",
    "    def _register_magic(self):\n",
    "        ip=self.env.ip\n",
    "        ip.register_magics(self)\n",
    "\n",
    "    def macro(self, name, aliases=[], template_name='macro/default.html', **kwargs):\n",
    "        return self.env.macros.macro( name, aliases=[], template_name='macro/default.html', **kwargs)\n",
    "\n",
    "    def template(self, name, template_string):\n",
    "        self.env.loader.mapping['custom'].mapping[name] = template_string\n",
    "        return 'custom/{}'.format(name)"
   ]
  },
  {
   "cell_type": "markdown",
   "metadata": {},
   "source": []
  },
  {
   "cell_type": "raw",
   "metadata": {},
   "source": [
    "    @cell_magic\n",
    "    @magic_arguments.magic_arguments()\n",
    "    @magic_arguments.argument( \"name\", default=None, nargs=\"?\", help=\"\"\"Name of local variable to set to parsed value\"\"\")\n",
    "    @magic_arguments.argument(\"-f\", \"--filename\", default=\"\", help=\"\"\"File name for the cell.\"\"\")\n",
    "    @magic_arguments.argument(\"-n\", \"--nodisplay\", default=False, action=\"store_true\", help=\"\"\"Show the tangled code.\"\"\")\n",
    "    @magic_arguments.argument(\"-c\", \"--classes\", default='', help=\"\"\"Template for the tangled cell.\"\"\")\n",
    "    def literate(self, line, cell):\n",
    "        line = line.strip()\n",
    "        args = magic_arguments.parse_argstring(self.literate, line)\n",
    "        literate_cell = ParentCell(self.env, cell)\n",
    "        if literate_cell.filename:\n",
    "            self.cells[literate_cell.filename]=literate_cell\n",
    "        if args.name:\n",
    "            self.env.ip.user_ns[args.name] = literate_cell\n",
    "        if not args.nodisplay:\n",
    "            return literate_cell\n",
    "\n",
    "    @property\n",
    "    def this(self):\n",
    "        return self.env.globals['this']"
   ]
  }
 ],
 "metadata": {
  "anaconda-cloud": {},
  "kernelspec": {
   "display_name": "Python [Root]",
   "language": "python",
   "name": "Python [Root]"
  },
  "language_info": {
   "codemirror_mode": {
    "name": "ipython",
    "version": 3
   },
   "file_extension": ".py",
   "mimetype": "text/x-python",
   "name": "python",
   "nbconvert_exporter": "python",
   "pygments_lexer": "ipython3",
   "version": "3.5.1"
  },
  "widgets": {
   "state": {},
   "version": "1.1.0"
  }
 },
 "nbformat": 4,
 "nbformat_minor": 0
}
