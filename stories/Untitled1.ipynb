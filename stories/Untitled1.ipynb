{
 "cells": [
  {
   "cell_type": "code",
   "execution_count": 1,
   "metadata": {
    "collapsed": false
   },
   "outputs": [],
   "source": [
    "from literacy import Literate\n",
    "from flexx import pyscript\n",
    "Literate(\n",
    "    default_language='js', \n",
    "    languages={\n",
    "        'js': {\n",
    "            'js': pyscript.py2js\n",
    "        }\n",
    "    });"
   ]
  },
  {
   "cell_type": "code",
   "execution_count": 2,
   "metadata": {
    "collapsed": false
   },
   "outputs": [
    {
     "data": {
      "text/html": [
       "<h1>An explanation of d3</h1><pre><code>d3_url=\"static/bower_components/d3/d3.min.js\"\n",
       "require_d3 = lambda handler: require([d3_url],handler)</code></pre>\n",
       "            <script>var d3_url, require_d3;\n",
       "d3_url = \"static/bower_components/d3/d3.min.js\";\n",
       "require_d3 = function (handler) {return require([d3_url], handler);};</script><div><h2>Test if d3 is loaded</h2><p><span id=\"installed\">Is d3 installed?</span></p></div><pre><code>def test_d3(d3):\n",
       "    if d3:\n",
       "        d3.select('#installed').text('d3 is installed')\n",
       "    else:\n",
       "        d3.select('#installed').text('d3 is not installed')\n",
       "\n",
       "require_d3( test_d3 )</code></pre>\n",
       "            <script>var _pyfunc_truthy = function (v) {\n",
       "    if (v === null || typeof v !== \"object\") {return v;}\n",
       "    else if (v.length !== undefined) {return v.length ? v : false;}\n",
       "    else if (v.byteLength !== undefined) {return v.byteLength ? v : false;} \n",
       "    else {return Object.getOwnPropertyNames(v).length ? v : false;}\n",
       "};\n",
       "var test_d3;\n",
       "test_d3 = function (d3) {\n",
       "    if (_pyfunc_truthy(d3)) {\n",
       "        d3.select(\"#installed\").text(\"d3 is installed\");\n",
       "    } else {\n",
       "        d3.select(\"#installed\").text(\"d3 is not installed\");\n",
       "    }\n",
       "    return null;\n",
       "};\n",
       "\n",
       "require_d3(test_d3);</script>"
      ],
      "text/plain": [
       "<literacy.cell.StaticCell object>"
      ]
     },
     "execution_count": 2,
     "metadata": {},
     "output_type": "execute_result"
    }
   ],
   "source": [
    "%%literate\n",
    "\n",
    "# An explanation of d3 \n",
    "\n",
    "    d3_url=\"static/bower_components/d3/d3.min.js\"\n",
    "    require_d3 = lambda handler: require([d3_url],handler)\n",
    "    \n",
    "## Test if d3 is loaded\n",
    "\n",
    "<span id=\"installed\">Is d3 installed?</span>\n",
    "\n",
    "    def test_d3(d3):\n",
    "        if d3:\n",
    "            d3.select('#installed').text('d3 is installed')\n",
    "        else:\n",
    "            d3.select('#installed').text('d3 is not installed')\n",
    "            \n",
    "    require_d3( test_d3 )"
   ]
  },
  {
   "cell_type": "code",
   "execution_count": null,
   "metadata": {
    "collapsed": true
   },
   "outputs": [],
   "source": []
  }
 ],
 "metadata": {
  "anaconda-cloud": {},
  "kernelspec": {
   "display_name": "Python [Root]",
   "language": "python",
   "name": "Python [Root]"
  },
  "language_info": {
   "codemirror_mode": {
    "name": "ipython",
    "version": 3
   },
   "file_extension": ".py",
   "mimetype": "text/x-python",
   "name": "python",
   "nbconvert_exporter": "python",
   "pygments_lexer": "ipython3",
   "version": "3.5.1"
  },
  "widgets": {
   "state": {},
   "version": "1.1.0"
  }
 },
 "nbformat": 4,
 "nbformat_minor": 0
}
