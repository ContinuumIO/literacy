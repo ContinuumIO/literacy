{
 "cells": [
  {
   "cell_type": "code",
   "execution_count": 1,
   "metadata": {
    "collapsed": true
   },
   "outputs": [],
   "source": [
    "from bokeh.sampledata import iris\n",
    "from literacy import Literate\n",
    "Literate();"
   ]
  },
  {
   "cell_type": "code",
   "execution_count": 4,
   "metadata": {
    "collapsed": false
   },
   "outputs": [
    {
     "data": {
      "text/html": [
       "<div><h1>Widgetize a DataFrame</h1><p>An interactive cell is created when frontmatter is appended to a cell.</p></div><pre><code>from bokeh.sampledata import iris\n",
       "from ipywidgets import SelectMultiple\n",
       "column_widget = SelectMultiple(\n",
       "    options=iris.flowers.columns.tolist(),\n",
       "    value=iris.flowers.columns.tolist(),\n",
       "    description='Select the columns you want to see'\n",
       ")\n",
       "\n",
       "\n",
       "@column_widget.observe\n",
       "def _update_panel( *args, **kwargs ):\n",
       "    panel.update_html()</code></pre>"
      ],
      "text/plain": [
       "<literacy.cell.StaticCell object>"
      ]
     },
     "execution_count": 4,
     "metadata": {},
     "output_type": "execute_result"
    }
   ],
   "source": [
    "%%literate\n",
    "# Widgetize a DataFrame\n",
    "\n",
    "An interactive cell is created when frontmatter is appended to a cell.\n",
    "\n",
    "    from bokeh.sampledata import iris\n",
    "    from ipywidgets import SelectMultiple\n",
    "    column_widget = SelectMultiple(\n",
    "        options=iris.flowers.columns.tolist(),\n",
    "        value=iris.flowers.columns.tolist(),\n",
    "        description='Select the columns you want to see'\n",
    "    )\n",
    "\n",
    "    \n",
    "    @column_widget.observe\n",
    "    def _update_panel( *args, **kwargs ):\n",
    "        panel.update_html()"
   ]
  },
  {
   "cell_type": "code",
   "execution_count": 5,
   "metadata": {
    "collapsed": false
   },
   "outputs": [],
   "source": [
    "%%literate panel -ia \n",
    "---\n",
    "start_row: [0,{{iris.flowers.shape[0]}}]\n",
    "num_rows: [5,20]\n",
    "---\n",
    "    _df=iris.flowers[list(column_widget.value)].iloc[{{start_row}}:{{start_row+num_rows}}]\n",
    "    if not 'columns' in library.this.widgets:\n",
    "        library.this.widgets['columns']=column_widget\n",
    "    \n",
    "{{_df.to_html(classes='table')}}"
   ]
  },
  {
   "cell_type": "code",
   "execution_count": 6,
   "metadata": {
    "collapsed": false
   },
   "outputs": [
    {
     "data": {
      "text/html": [
       "<p><pre><code>_df=iris.flowers[list(column_widget.value)].iloc[75:87]\n",
       "if not 'columns' in library.this.widgets:\n",
       "    library.this.widgets['columns']=column_widget</code></pre><p><table border=\"1\" class=\"dataframe table\">\n",
       "  <thead>\n",
       "    <tr style=\"text-align: right;\">\n",
       "      <th></th>\n",
       "      <th>sepal_width</th>\n",
       "      <th>petal_length</th>\n",
       "    </tr>\n",
       "  </thead>\n",
       "  <tbody>\n",
       "    <tr>\n",
       "      <th>75</th>\n",
       "      <td>3.0</td>\n",
       "      <td>4.4</td>\n",
       "    </tr>\n",
       "    <tr>\n",
       "      <th>76</th>\n",
       "      <td>2.8</td>\n",
       "      <td>4.8</td>\n",
       "    </tr>\n",
       "    <tr>\n",
       "      <th>77</th>\n",
       "      <td>3.0</td>\n",
       "      <td>5.0</td>\n",
       "    </tr>\n",
       "    <tr>\n",
       "      <th>78</th>\n",
       "      <td>2.9</td>\n",
       "      <td>4.5</td>\n",
       "    </tr>\n",
       "    <tr>\n",
       "      <th>79</th>\n",
       "      <td>2.6</td>\n",
       "      <td>3.5</td>\n",
       "    </tr>\n",
       "    <tr>\n",
       "      <th>80</th>\n",
       "      <td>2.4</td>\n",
       "      <td>3.8</td>\n",
       "    </tr>\n",
       "    <tr>\n",
       "      <th>81</th>\n",
       "      <td>2.4</td>\n",
       "      <td>3.7</td>\n",
       "    </tr>\n",
       "    <tr>\n",
       "      <th>82</th>\n",
       "      <td>2.7</td>\n",
       "      <td>3.9</td>\n",
       "    </tr>\n",
       "    <tr>\n",
       "      <th>83</th>\n",
       "      <td>2.7</td>\n",
       "      <td>5.1</td>\n",
       "    </tr>\n",
       "    <tr>\n",
       "      <th>84</th>\n",
       "      <td>3.0</td>\n",
       "      <td>4.5</td>\n",
       "    </tr>\n",
       "    <tr>\n",
       "      <th>85</th>\n",
       "      <td>3.4</td>\n",
       "      <td>4.5</td>\n",
       "    </tr>\n",
       "    <tr>\n",
       "      <th>86</th>\n",
       "      <td>3.1</td>\n",
       "      <td>4.7</td>\n",
       "    </tr>\n",
       "  </tbody>\n",
       "</table></p></p>"
      ],
      "text/plain": [
       "<literacy.cell.StaticCell object>"
      ]
     },
     "execution_count": 6,
     "metadata": {},
     "output_type": "execute_result"
    }
   ],
   "source": [
    "%%literate\n",
    "{{panel.data}}"
   ]
  },
  {
   "cell_type": "code",
   "execution_count": null,
   "metadata": {
    "collapsed": true
   },
   "outputs": [],
   "source": []
  }
 ],
 "metadata": {
  "anaconda-cloud": {
   "environment": null,
   "summary": "Simple widgets for a dataframe",
   "url": "https://anaconda.org/tonyfast/hot_update_dataframe"
  },
  "kernelspec": {
   "display_name": "Python [Root]",
   "language": "python",
   "name": "Python [Root]"
  },
  "language_info": {
   "codemirror_mode": {
    "name": "ipython",
    "version": 3
   },
   "file_extension": ".py",
   "mimetype": "text/x-python",
   "name": "python",
   "nbconvert_exporter": "python",
   "pygments_lexer": "ipython3",
   "version": "3.5.1"
  },
  "widgets": {
   "state": {
    "00ea187436844ae282c625a673e0170a": {
     "views": []
    },
    "0111b736f8374d4780eee85514b4b93d": {
     "views": []
    },
    "01f122d1822f4fd3ad1df440a01b2dc9": {
     "views": []
    },
    "01f6f3bbd4944c55a88d3d0202c61d3c": {
     "views": []
    },
    "02f6419494444d3baf0b805d3ccafad9": {
     "views": []
    },
    "034d9c81a13c422d82f4da5ce96242c9": {
     "views": []
    },
    "03680b7bab534ba48a009a8b9bd9b570": {
     "views": []
    },
    "06003de3d308486a86875a6a4db6bf5a": {
     "views": []
    },
    "063e66ae46ec49feb0214f4602762393": {
     "views": []
    },
    "067268d351a6493eb8916ae4faba57cf": {
     "views": []
    },
    "0747956b17b24c4ba246eedb44d2bb96": {
     "views": []
    },
    "0766e81dc14742479d4bdb51b389c2b0": {
     "views": []
    },
    "08388b1db4594708afaaa1de9738d82a": {
     "views": []
    },
    "084535c83cff47418c770a90c3b29b5f": {
     "views": []
    },
    "085a55e35c7e4e9a8f3ea09d5e9fdeb3": {
     "views": []
    },
    "08823fafc6d54465914f85ffb927ef1d": {
     "views": []
    },
    "0954ebacdc3244db9807d986aed77cbd": {
     "views": []
    },
    "0958890a3b3d433a9a85b4eb2e706961": {
     "views": []
    },
    "095a2365e970419a8b3a6b23e70f846b": {
     "views": []
    },
    "09a6ca8ef0ba456a94f1a8edd9a86574": {
     "views": []
    },
    "0a6c7f09b9f94894b6c362ef537268a5": {
     "views": []
    },
    "0a8e4675680245059dc94c1f9fc19a16": {
     "views": []
    },
    "0a9de38fb66349458c5a26c94cc2a9f6": {
     "views": []
    },
    "0ae35d760c444087bf687441c978c5c3": {
     "views": []
    },
    "0af5c1765ef34263807ecf8c21c34db3": {
     "views": []
    },
    "0aff6275cc6a490e886dbddd80791449": {
     "views": []
    },
    "0b184f4ca96d479cb4fd88b4a94754ee": {
     "views": []
    },
    "0b732d661a7349a9a014958b8014b759": {
     "views": []
    },
    "0c177f981615442cb2d0fde1efdc1e0e": {
     "views": []
    },
    "0c2164167f6e4c36ba7837fa21091a88": {
     "views": []
    },
    "0d04b79ad3424cbfaaeb84cd90437b8a": {
     "views": []
    },
    "0d3301d32c21496ababaae0e22f4f98b": {
     "views": []
    },
    "0e301229cacc470891e460a058adcc64": {
     "views": []
    },
    "0f0c13186de84544abe17449ad945fa3": {
     "views": []
    },
    "0f2c948cd0364b49abe5ab1f3c24a72e": {
     "views": []
    },
    "0f46c43b705c44d389cfe3c49dd9651f": {
     "views": []
    },
    "10539ad3611348f6b51f9ca518dc92c8": {
     "views": []
    },
    "106c961977c3463a9bb8a19690dbc204": {
     "views": []
    },
    "10aaf75387f04b7ea2221b004409629c": {
     "views": []
    },
    "114e5fa382cd41e4942f37bacd63be55": {
     "views": []
    },
    "1193828910be4276ab5819d3b479d48a": {
     "views": []
    },
    "11af02dcf8104fdc879705b0f5ee7d16": {
     "views": []
    },
    "1255e6fe46a24eafb3cc70dec190d510": {
     "views": []
    },
    "12aa2eb06daf4dea83784cc474d13056": {
     "views": []
    },
    "1328d901b70941769b27021ea383c4ce": {
     "views": []
    },
    "134d0a0a73d6423d9eb6203131ad6245": {
     "views": []
    },
    "1367d041862c4af195df4c4821bc0220": {
     "views": []
    },
    "147f860fe3304107b0a061a605eed6bc": {
     "views": []
    },
    "1486d53f97da4c82b9c6b016c3da374b": {
     "views": []
    },
    "14bcea819184480983d2986fb9e197c4": {
     "views": []
    },
    "159a38f889304dcab8d2cb6683db2b99": {
     "views": []
    },
    "1619d7e88d3240f497c027bbd4ed2641": {
     "views": []
    },
    "162948ef61c34d12bb55d2fb379125d8": {
     "views": []
    },
    "165a3932f7994e599b2faeb2020bf6a0": {
     "views": []
    },
    "16671f6a353e41a59b2fb63082608e44": {
     "views": []
    },
    "1695dcc8d8064a6a8a01f13ea3b5d941": {
     "views": []
    },
    "16dad7005e6d44d68fda07a832cc2f9b": {
     "views": []
    },
    "16e13e3051e1466ab38523d6df27e3bb": {
     "views": []
    },
    "173410e483424c3bb57207628db668c4": {
     "views": []
    },
    "173d39b3fe6c42c4b8e765a3d082b1d8": {
     "views": []
    },
    "1778e10724c84afc8bfc02f85e28d6b9": {
     "views": []
    },
    "183f7d319dfd4194b2520924a26b4c44": {
     "views": []
    },
    "18d7fd6ea79a4982b2dff1be62176712": {
     "views": []
    },
    "194f891410aa4e82a512213bf43ee507": {
     "views": []
    },
    "19a3c2a3ec3247399ff47a984ad3ecea": {
     "views": []
    },
    "1a75b8324aa940d99294174100682b7d": {
     "views": []
    },
    "1b1ea3f4b7004f7fbe2a6c720a9854dd": {
     "views": []
    },
    "1b865ce1308a41bc81aeea9669e8727f": {
     "views": []
    },
    "1bf8b92f23fb464b8c1cf4ecbc75a35b": {
     "views": []
    },
    "1c00c03101d241ad9ae21dc80051dba8": {
     "views": []
    },
    "1c59ca4e5886467dbe40a2824eefa851": {
     "views": []
    },
    "1ccfbf92eca14a1886d6353a66883a14": {
     "views": []
    },
    "1d09f3c52bac49649a0e2dde3b76225e": {
     "views": []
    },
    "1d34c9ca982a4c67be3a491502be6ef2": {
     "views": []
    },
    "1d7180ae8c794f84b9a84cf0c5c7e4fe": {
     "views": []
    },
    "1dc36d9c6a5f459dbd0fd5dbe80310ba": {
     "views": []
    },
    "1ee4af8e217a4d149db69006466e9801": {
     "views": []
    },
    "1faf792010c1425a9bdde131441afeea": {
     "views": []
    },
    "1ff8e76b3a404f2489630141fdeca2f3": {
     "views": []
    },
    "202a9bb34eb943a0a9e5045f042ac38f": {
     "views": []
    },
    "2056e15f1b2e4c2d8c5a2d32a101e9a6": {
     "views": []
    },
    "206d8b826eee471b83fbe925cf20de6d": {
     "views": []
    },
    "2073b580d8c94ee2842705c441cafa52": {
     "views": []
    },
    "2089d4e7cdf3465d94aac828eebfa126": {
     "views": []
    },
    "20b1f5c15df145319b0959a8bf50333e": {
     "views": []
    },
    "21ec82d872a24eee8dd36c87241b6c37": {
     "views": []
    },
    "23148d7500f94e81a762634036b11707": {
     "views": []
    },
    "247773991a104decb5a1f62751111905": {
     "views": []
    },
    "2545c2ac23ed4217b380dc59367505ae": {
     "views": []
    },
    "258d845d657948d992c863573a788dd8": {
     "views": []
    },
    "26074fc77e094eeabba38ab7fa1c3d1a": {
     "views": []
    },
    "265a35b21c68468a8f01a902f5ed51b3": {
     "views": []
    },
    "26e9bda37da14636abedbb54670022ee": {
     "views": []
    },
    "270035d830dd466c8db8f102ad06e2a6": {
     "views": []
    },
    "2714a7c1bf4a427983553329d55a5680": {
     "views": []
    },
    "27654a89375e46a18e8ba875df1f2ff9": {
     "views": []
    },
    "277ce602931e469fb72ff156d95d35f4": {
     "views": []
    },
    "27ac5a36085b4da6b4f7973c2fb4f4b4": {
     "views": []
    },
    "290d0c2f2a404b3caaa8a0188200419c": {
     "views": []
    },
    "293d2ab4dcab4bb284c283f4996273c1": {
     "views": []
    },
    "29f4127aadc64b528ad13786c0cf5d80": {
     "views": []
    },
    "2a751843ef2241e18a350fe598c797fa": {
     "views": []
    },
    "2b2bab8714ef429aa5c7629a40b2ec12": {
     "views": []
    },
    "2b998e794cc4496fb5b1b264067b5cbb": {
     "views": []
    },
    "2bd0820a83ef4843859077b4d62b970b": {
     "views": []
    },
    "2c13ad201d744bb38b352d245e964b0b": {
     "views": []
    },
    "2c360089e9f744d1b1a2c171ab2932ef": {
     "views": []
    },
    "2c4f207f1f4f47c2857e131d7cf030a3": {
     "views": []
    },
    "2c86fc8af733418b84ed1f18cbb0c6eb": {
     "views": []
    },
    "2e2c786054a34155b0c94998349aaa81": {
     "views": []
    },
    "2e91640e62384ee9bb1c33d0a18f3cd6": {
     "views": []
    },
    "2f7726c085c14b9e9954cf160d46026e": {
     "views": []
    },
    "3009bf9105654317bf851d380b10021a": {
     "views": []
    },
    "30349ed2331d4ad3bc86e13ed169d6cc": {
     "views": []
    },
    "305359fd3f9a4a938f4d58581d824887": {
     "views": []
    },
    "321c9e1985624b049a75e2ba709e377a": {
     "views": []
    },
    "332c4f4102bc41bb96012ee88b51e0d2": {
     "views": []
    },
    "332e565f9444447791b3e6a036386e08": {
     "views": []
    },
    "3347d4da343d4abaa94a8ba97864aa39": {
     "views": []
    },
    "335d7c799b29491c8192a71d63f0b620": {
     "views": []
    },
    "338a25308224453b900e75a806685519": {
     "views": []
    },
    "33b7de961dc343cda2379692b7f8dfb4": {
     "views": []
    },
    "3401c29af2b645a08f51cfffa26145e1": {
     "views": []
    },
    "341634afcf3f4187a29099e0f1f06b79": {
     "views": []
    },
    "359db58efa794669a8913d22e49ae27f": {
     "views": []
    },
    "35f3972dc7ec4fe2b1842ac09d1a8c3e": {
     "views": []
    },
    "371692dfd8314df7b06b71f816719c5e": {
     "views": []
    },
    "3723b0ab362f4661afa7fea2ffe43852": {
     "views": []
    },
    "373ec372ad5c4dc7ba880d6ffee6c822": {
     "views": []
    },
    "38d74ba566304d66ade607c0417805bc": {
     "views": []
    },
    "3995d59f15a74efd86618d6f13e6664a": {
     "views": []
    },
    "39b806f184db4836832cd9c9ebac20b0": {
     "views": []
    },
    "3aa6057027c54db58e8bb50668ef6bb2": {
     "views": []
    },
    "3b7b823caaaf4025a6bef70c69ed0b68": {
     "views": []
    },
    "3baa36d7e7e14676b48d49c6af8f1d88": {
     "views": []
    },
    "3c3c487572be4d1187316dee5dddaa61": {
     "views": []
    },
    "3c6996e0990d42ac8e6615b26983e9a2": {
     "views": []
    },
    "3d46718928c14a8f89d169a2c9c161b8": {
     "views": []
    },
    "3d62c8e94c204e569428292f3d796e7e": {
     "views": []
    },
    "3dbdabb0f6b543dfb4844561f3738fc9": {
     "views": []
    },
    "3dd40af6b80b45b7a0dfb397faa14db7": {
     "views": []
    },
    "3e26365fd0724e07b6010b5f7af07715": {
     "views": []
    },
    "3e5b2339df8c4b35b283f9ac6daaef8c": {
     "views": []
    },
    "3ee5ef2dee48442a922702c33835cbfa": {
     "views": []
    },
    "3f2a265a69d84ac68b5d28806267db8f": {
     "views": []
    },
    "3fa806c0525244b19ea71811c5423a0d": {
     "views": []
    },
    "4064dc78d38e4f049c7ca0d75c8b15d4": {
     "views": []
    },
    "40dfeb5693f94e8d80f1fde2c15e2d38": {
     "views": []
    },
    "40ec8b4b31544d78adefe01fef532511": {
     "views": []
    },
    "414e9fec22ee4ea8b556f932eab5a856": {
     "views": []
    },
    "41d317214b614616982bee31f6ce01b9": {
     "views": []
    },
    "41f0212f87cf48b89302a1a5497adcb1": {
     "views": []
    },
    "423636ce4ac54ff49bf7ea29e9222c66": {
     "views": []
    },
    "42c15440bd414d1e821bb8e89125b550": {
     "views": []
    },
    "42dd18f7f5884377bfbcd0f7927a9823": {
     "views": []
    },
    "43175d6ea5ee4ab88172152d4491a925": {
     "views": []
    },
    "4321d670268446f195a81b509eb96415": {
     "views": []
    },
    "43f96ce115274326a4dd950093e7ef06": {
     "views": []
    },
    "44724bd3b24648daa5610c150417222b": {
     "views": []
    },
    "45c8878ca1924cfc897809f0bec802b1": {
     "views": []
    },
    "465932a499da43d880c5f44c7704707e": {
     "views": []
    },
    "465f353ee8484339aa9f1775c5ed8918": {
     "views": []
    },
    "471bdfdf0ea549a6a9afd2d3589729b5": {
     "views": []
    },
    "47f2e6914fb142378ff3a1ca998ef4db": {
     "views": []
    },
    "4846d8afc9a6424e981f8a458d685a53": {
     "views": []
    },
    "49d3d62d96ee4094b64a382aca7c7679": {
     "views": []
    },
    "4a107697469e48d5b6d4fcb6229b506b": {
     "views": []
    },
    "4a6334083e4d461eb42353731a7de375": {
     "views": []
    },
    "4a763e45ecd44c67a97616eda440f988": {
     "views": []
    },
    "4b2c4734f48e4fb3be6c7c9e3690e87f": {
     "views": []
    },
    "4bd2e9cd770f49afac30c966ecc4cb39": {
     "views": []
    },
    "4bda1c9e92b64858a8b7fca1ca28811b": {
     "views": []
    },
    "4c0243915ce84c60b0f3b2cd3b455bdd": {
     "views": []
    },
    "4d211554c78d44bb9b439309c413c1f2": {
     "views": []
    },
    "4d99462baefd4f8ca42d4237b1837dce": {
     "views": []
    },
    "4dc16ac28633438ca3b4a5b31b25ba2a": {
     "views": []
    },
    "4e50425128934519b935a2474a293ab2": {
     "views": []
    },
    "4ed49d5758aa4761add879e0de664eb3": {
     "views": []
    },
    "4edbd9742ee642618c36b7c8ff1326c9": {
     "views": []
    },
    "5014cc2412a14b5ea3bb584b52ff31d7": {
     "views": []
    },
    "506216a1c5874a3781695cd3430744a5": {
     "views": []
    },
    "5176ef39e3b745ef8aea6948dc145c2e": {
     "views": []
    },
    "52c5f2758ca14ea18dd26e5d43324e4c": {
     "views": []
    },
    "546dbe7f471a4ab39e3aa3d4c83c750d": {
     "views": []
    },
    "54886c7037994213b92b80f3011ecd98": {
     "views": []
    },
    "54ebc6b41e55431d9699c7d229e6152f": {
     "views": []
    },
    "55103fa8ad934ddd8e0ce622fe4e6253": {
     "views": []
    },
    "558b3f75b46b463e9a5d6bfd8cebb4a2": {
     "views": []
    },
    "559813af467440bd987ae8c0720bd3fe": {
     "views": []
    },
    "55cdeb670d054f1e8329fdc10a9b98a4": {
     "views": []
    },
    "55cf3e12b345457dbf111c7b16b9aa08": {
     "views": []
    },
    "55e1ab9f748546f784a7fbea26432aa9": {
     "views": []
    },
    "5662f9fbc9f44edea582698f4b98802a": {
     "views": []
    },
    "567b65ba170c4f1eb6e94c3e557d160b": {
     "views": []
    },
    "573defc72a6b434b86d3551ccbb37e9f": {
     "views": []
    },
    "58d83b3c3eb843d18bb7a1286a311b41": {
     "views": []
    },
    "58e1ffe6584145c6af0716ba429c056a": {
     "views": []
    },
    "595473c833a54d5cb448d96bee8c0763": {
     "views": []
    },
    "597a7320f7554376a5410c7f78f43d14": {
     "views": []
    },
    "5a06936748a244fcacad10f8d5baa4ce": {
     "views": []
    },
    "5a3690384c4e4774ae8f7063a7959d56": {
     "views": []
    },
    "5b355960248d44d78e323a9e9714af35": {
     "views": []
    },
    "5c790b83a5694af2892bc5cc427d2a88": {
     "views": []
    },
    "5f933e9cba5649cca2eafc4a41331f1b": {
     "views": []
    },
    "602ac174fe90456bb1f48555f28c22bf": {
     "views": []
    },
    "6030d1d577114a108b6babc00b031b4d": {
     "views": []
    },
    "60e977c0e91c476dabd0694b1910dac4": {
     "views": []
    },
    "6166a8e2374f4f7cb919417737f6318d": {
     "views": []
    },
    "61cdd5416ec54bd9b592349de031b8e0": {
     "views": []
    },
    "62356f61f29148f0966ec09b048020f4": {
     "views": []
    },
    "624af8cd0a2244afaf92df7c6402b7c6": {
     "views": []
    },
    "63754dcc76f143df882f9257e6e406a9": {
     "views": []
    },
    "6408922e4b8940888d432a56e3e1bf0a": {
     "views": []
    },
    "646e889a38a64b7bbaf82e0146f8d68f": {
     "views": []
    },
    "65ec2559cab34f3ca162d973072c5e73": {
     "views": []
    },
    "6757e8d07a964007a00f6185d3239c7f": {
     "views": []
    },
    "6779ce15d5d5480b876231b7e20551d2": {
     "views": []
    },
    "67adc8d81df84622b409126a990d4492": {
     "views": []
    },
    "6875f07068004d22811b0e5c7d83be87": {
     "views": []
    },
    "6a7babfb94db4afaa19e59cd2903183c": {
     "views": []
    },
    "6a9936cada244cc093d7875e9b8f2a62": {
     "views": []
    },
    "6af5c9da133242c09a96ee8d2572d000": {
     "views": []
    },
    "6b1565f474c84781a1be27ef28c44411": {
     "views": []
    },
    "6b427f07246b4c62a12b47901731837d": {
     "views": []
    },
    "6b4e6b2a08144ef18975620fa1155791": {
     "views": []
    },
    "6b57909129014c5aaa45f43c74ca1cb6": {
     "views": []
    },
    "6bc46490945049dc83913b1a30ccaf22": {
     "views": []
    },
    "6be09dcab1ec4ed8a19595790fcda782": {
     "views": []
    },
    "6bf73dcb93c44ba6abbfdf2f2c49d7b5": {
     "views": []
    },
    "6ca46ed48ea04ff280fb40cc2711ecd5": {
     "views": []
    },
    "6dc9c0275c49433b9a7b7695c70734ea": {
     "views": []
    },
    "6e27f38c30c04e1894199c53d16aae6a": {
     "views": []
    },
    "6e79b766a5a446e684f5678e77a72c3b": {
     "views": []
    },
    "6f0be0b25411418ba7658854d37cc768": {
     "views": []
    },
    "6f7a26676add4b479966f6b397510465": {
     "views": []
    },
    "6fb0af35e1de43749b6c981fc4db0cbb": {
     "views": []
    },
    "7020e7110496473386efa4d885071c5f": {
     "views": []
    },
    "711447349a3e42fca65db5ad1a0f9757": {
     "views": []
    },
    "715a79e6cfdf4cd1a62f5d0d86925857": {
     "views": []
    },
    "7204484ec9734b2d94c6472c032ae68c": {
     "views": []
    },
    "731a248cc2134333bc3ec3afe4a48c01": {
     "views": []
    },
    "73b1029e9aed446480f90817b75eb354": {
     "views": []
    },
    "7428159f72d54b45a7d5e684a17acb84": {
     "views": []
    },
    "7478f96b737e44a2994e0e301cb3fee1": {
     "views": []
    },
    "754a3c977d694ff1bc1c44ec006e93cf": {
     "views": []
    },
    "755956b2565b46cf99d4e013bdf1d296": {
     "views": []
    },
    "7559e4b5d01649349744fd242a92c84c": {
     "views": []
    },
    "757750c047db4845b3711af4dd889275": {
     "views": []
    },
    "75fec8817c664592ba314069edf47a7c": {
     "views": []
    },
    "7730a71f73f040ff957d0312ac7c0d22": {
     "views": []
    },
    "774a01eaac074970b9469107329bffd3": {
     "views": []
    },
    "779cbc207e1b4c33a624b529c8299375": {
     "views": []
    },
    "77f5bc97aac0487ab8ac797ec986e634": {
     "views": []
    },
    "7871e1943be146c4993e744eec4c54dd": {
     "views": []
    },
    "78745dee6c6d49efafb4cea28fed1841": {
     "views": []
    },
    "79262d50ee64439a8e8801645fc6e25e": {
     "views": []
    },
    "7935d9a21794429cae8763017793210a": {
     "views": []
    },
    "79986d896ae24d36b64434560569e182": {
     "views": []
    },
    "7a85ebe7fb1c4aec876e57a87552c6d5": {
     "views": []
    },
    "7b428821ad8a4f919563fe68d87aaf44": {
     "views": []
    },
    "7b9faf05981c47acb4d344020012c8c2": {
     "views": []
    },
    "7c32411f992e4f63a566288797cf0306": {
     "views": []
    },
    "7c4dec29d0a9481ba9d74e32c470ea78": {
     "views": []
    },
    "7c93c31972ef472190d1e2473dfff731": {
     "views": []
    },
    "7cace3105f984906b77fc8335677aea0": {
     "views": []
    },
    "7d911a6c97d04f3cbf213c4275246c8d": {
     "views": []
    },
    "7dd6e4f4e045407e9777788dcc87e383": {
     "views": []
    },
    "7e87e216c27c4fbdb0376cbe7997690f": {
     "views": []
    },
    "805529545bfe43b1b7c2b5b235dcd2d4": {
     "views": []
    },
    "813ab93e29194551b9064e26f503efc2": {
     "views": []
    },
    "821adbaa3f3b41afa65bbb03ddaecece": {
     "views": []
    },
    "824f9914592148fdaeff7c4a4a472cd6": {
     "views": []
    },
    "826517f27590466a8b35d63e9c95ca35": {
     "views": []
    },
    "83a61e41154548e6b6c858d4de8e5547": {
     "views": []
    },
    "8446734d44db414a965b8e92d7e01cf0": {
     "views": []
    },
    "84a4d5e425c0474882fc1638d53291ad": {
     "views": []
    },
    "84bad34e5c67457ebeb812ded72cc2b3": {
     "views": []
    },
    "85542fe456b5463a8530506e48c23722": {
     "views": []
    },
    "85548808c47241cdaeef07b2fb51d5eb": {
     "views": []
    },
    "8626db30fc9344a7a4f8255e87d97943": {
     "views": []
    },
    "86c9dafc6e1248d0b1e5afbdd5d88f14": {
     "views": []
    },
    "8725de7cfa56442bb0bedf6452d2094e": {
     "views": []
    },
    "874f6716218f4f4c8cdef98f04582355": {
     "views": []
    },
    "876a66c58cec4c04b0bbf5c8223533e0": {
     "views": []
    },
    "88af0be3017442fb9b77d85463eadca5": {
     "views": []
    },
    "88fe7ff03578483d941886c91f95710a": {
     "views": []
    },
    "898516ace86f4097ac5087c8ccde312d": {
     "views": []
    },
    "8b02d5a165514a7189f53b8b472bc5e2": {
     "views": []
    },
    "8b2b147da6d44b73a81cc4e27a5caaf7": {
     "views": []
    },
    "8becdd6af40b43c39b073726575d3318": {
     "views": []
    },
    "8cc82a60df1248169c9b6949dba83bb2": {
     "views": []
    },
    "8db0f697a1a6400198d5e111e6a40aea": {
     "views": []
    },
    "8df78f54638a43ba8f42b5c5b5bce51b": {
     "views": []
    },
    "8df8457c5b1d4299b2121d8c2302c31f": {
     "views": []
    },
    "8e07fd9bcc4d4426b7919f840771ca61": {
     "views": []
    },
    "8e5ea53454dc4e358fd3e6b9a08d7b00": {
     "views": []
    },
    "8e6786ccb79d4423a9548c68994873f9": {
     "views": []
    },
    "8ec37dfa02e74a0a94fa9c27caf3e846": {
     "views": []
    },
    "8f27c6fbeec04f168269aec1f4330a2b": {
     "views": []
    },
    "8f282f719ff34f9290ef226987d35f53": {
     "views": []
    },
    "8fc235f917044c9c87425cdc54215817": {
     "views": []
    },
    "9003910703eb4becb69d65f9be507f45": {
     "views": []
    },
    "902b3a9cef6c40f88f0ddb310811011a": {
     "views": []
    },
    "90da3ee199474750b6ee91d83016971c": {
     "views": []
    },
    "918774e8f8434e4495c8449033ade071": {
     "views": []
    },
    "919fa0f4bb034b45bfc705308a92942c": {
     "views": []
    },
    "91b42d179bde4a2c9fa5bdb61c475152": {
     "views": []
    },
    "92018c49466945e3a9f04ce4022682e4": {
     "views": []
    },
    "92086c11fa524094a204aef90771028c": {
     "views": []
    },
    "92963a071cac4e78b4fcda9df13918ab": {
     "views": []
    },
    "92d03f1de8db4f9695e9ca853f68939b": {
     "views": []
    },
    "92d4acc1e8fa4c5e881f659b1643cf7e": {
     "views": []
    },
    "935ad93a8344425c96aa6e02e1ce98ff": {
     "views": []
    },
    "94a1590ebdfe41e9b075ebf7c01aeb66": {
     "views": []
    },
    "94c5c6091d6c4b77ad11196e93de0ae5": {
     "views": []
    },
    "94e461f5552a48fe84cee7b67a3c6534": {
     "views": []
    },
    "9615b91482314141a73cbf1e085b8ebd": {
     "views": []
    },
    "96bd84e4aa3d4bf69ef78b529bd456f7": {
     "views": []
    },
    "96be52e19ba64d78a8dce36dc49bb449": {
     "views": []
    },
    "973f9c1775e8476c9399299ed224d98e": {
     "views": []
    },
    "977885ee024e498291bb8a2b8b3d68ff": {
     "views": []
    },
    "97b8599387024916aac7d6325856cbc9": {
     "views": []
    },
    "9902044b68b0489c9fac9a432a7c0173": {
     "views": []
    },
    "99bb186785dc4d5d824c67122f10247f": {
     "views": []
    },
    "9a11db465de7408885182eed366f0d82": {
     "views": []
    },
    "9b3871ec4b4d444fbb5715d81bd5c819": {
     "views": []
    },
    "9cc72449ac4a4450b78504ceb3514503": {
     "views": []
    },
    "9d340f539eb142a0af74ef621e651873": {
     "views": []
    },
    "9d521db47a85491a80ff9ea8c06766da": {
     "views": []
    },
    "9dfe8c6347ba406185343c22f2dd9adf": {
     "views": []
    },
    "9e94c1906a354c3ebb529f0ae74058fb": {
     "views": []
    },
    "9f43abd0317145c0b28caa340783a401": {
     "views": []
    },
    "9fdf11cec84a448f844e2c3336daeb76": {
     "views": []
    },
    "9ff4d43bf9ca4913b6530df3e711d003": {
     "views": []
    },
    "a03ed4a9635a4650afcce8459284c0ce": {
     "views": []
    },
    "a13ec5b9fec94dbf89aff0db0df93c00": {
     "views": []
    },
    "a1c4d9937cf34b618a028eac4e2366e8": {
     "views": []
    },
    "a25163b1d2bb438d8bf4c044e19a118f": {
     "views": []
    },
    "a321cee1c22f4b44ac2b74a5bf9f9c0f": {
     "views": []
    },
    "a332abcfc4ce4530971ee74cbe135ffd": {
     "views": []
    },
    "a34bc02256954e60ae960ba34bbd1dc9": {
     "views": []
    },
    "a364c4a068aa4800ae3e404b14381de8": {
     "views": []
    },
    "a37b8587338847a98023e2f6f508f62d": {
     "views": []
    },
    "a4201daa1edc4a1aaf93858010601b30": {
     "views": []
    },
    "a4c7bce33fd14cc180b3216d0ceeda0a": {
     "views": []
    },
    "a53a5fd11a514376aba0dfbea1ac8348": {
     "views": []
    },
    "a59ceebf6ba44b59a5d7c50d3bc9b057": {
     "views": []
    },
    "a5a2e95920634a0fa6831e8d81a35b84": {
     "views": []
    },
    "a5abce72beaa46f081dbf178a380656a": {
     "views": []
    },
    "a5ace583b431436b9ead8f3837bdb9fc": {
     "views": []
    },
    "a72711065c8848b0a9436c9be831b992": {
     "views": []
    },
    "a781717b68c4448d8545be26bf160cf9": {
     "views": []
    },
    "a8c6a975008b40d18eb641ae2f500b4c": {
     "views": []
    },
    "a8d9c488e52a468ea54c23a58bb435cc": {
     "views": []
    },
    "a98a48b2a1674bcb937af489f9a975c3": {
     "views": []
    },
    "ab171c5749f0458dbe8ca6e892468d32": {
     "views": []
    },
    "ab915e976b34429685a14c8efbd9d472": {
     "views": []
    },
    "abf5865c4020420a9378214ca0148f07": {
     "views": []
    },
    "ac8125d3abd247d3b20d9b9a7536414e": {
     "views": []
    },
    "ac9f6c7f59d8460fa68e2841189589a5": {
     "views": []
    },
    "acad65dd840a47559fe37a0502fe8b10": {
     "views": []
    },
    "ad351af35d1d4df89ec89901836100fd": {
     "views": []
    },
    "ad8e32e5d2764f55b9959041cf3ec5de": {
     "views": []
    },
    "aefa4b8f3ea340e0ac3296efbc150e4a": {
     "views": []
    },
    "af939cbec61946f39ab80c5fdf7637c2": {
     "views": []
    },
    "afda6daccfab447a84c4975e12061784": {
     "views": []
    },
    "b0a435f44c70474e867d61a10571632c": {
     "views": []
    },
    "b0a8e0126fbd40bb8aea531cfa95933c": {
     "views": []
    },
    "b1a5e98160cf43dea65b9c0cc84a5a75": {
     "views": []
    },
    "b2f3dbc0573549a4bbb50a30fc75c779": {
     "views": []
    },
    "b3665f3743fb419986d3cb879379961f": {
     "views": []
    },
    "b385566ef9fc4d869704a98a25f3f9f7": {
     "views": []
    },
    "b43d8263a1d44e0b910bc459d6bd93ad": {
     "views": []
    },
    "b48ca513313d4e3989abcb5923e63e22": {
     "views": []
    },
    "b4d25072360c4bb89d2fe3404c894220": {
     "views": []
    },
    "b53552744c3343b6875cc4db7c066e0b": {
     "views": []
    },
    "b67bf88762b64437bcbf6f92327b2b41": {
     "views": []
    },
    "b7b9823dfbdf488aa23eb71d964db94b": {
     "views": []
    },
    "b7fb14e8b3ca4800a40525965c6207bd": {
     "views": []
    },
    "b8705f5ad9864287970c9d62a9cf0f21": {
     "views": []
    },
    "b888b2f2e49d4fd58d2a78a9d2d97dbf": {
     "views": []
    },
    "b9bc9626b637451aab8d4e9520a86646": {
     "views": []
    },
    "ba1b3a52f9854fcbb2fb2b5a2584d205": {
     "views": []
    },
    "bb3d0d17d88548b4a76d834423a0606a": {
     "views": []
    },
    "bb88f1c48b1f4fb4aab6dc4fead3808c": {
     "views": []
    },
    "bba9282bf4ef49bfa6be8d2781dfce11": {
     "views": []
    },
    "bbe3ada946854f0c9fa6d1e16f2ea21c": {
     "views": []
    },
    "bc01756d20f14484ba6b7ca7dcd3ec34": {
     "views": []
    },
    "bc5f360710474179a07119887f565a7e": {
     "views": []
    },
    "bc76173d225b4e069ce7f8c47a0d5180": {
     "views": []
    },
    "bc8758667aef460984dc6101a31f0d43": {
     "views": []
    },
    "bd7f3d9baeec46fab68a85a0914d834a": {
     "views": []
    },
    "be6ad9989ad7470aafef07f1965fc9d8": {
     "views": []
    },
    "bebbeeaf5e2b48d09a787d26d9833797": {
     "views": []
    },
    "bf077c572fc446adaec2c81baa016631": {
     "views": []
    },
    "bf70216e3e7f459eae70eb85d91e5ee3": {
     "views": []
    },
    "bf92067c2b254b0f957bfe6d1768bd11": {
     "views": []
    },
    "c0c1911757934d55b49673cfa3bc1752": {
     "views": []
    },
    "c1137085409b43bdb6834deaba97c395": {
     "views": []
    },
    "c1f5b13c224b4ae1ace425bed7419902": {
     "views": [
      {
       "cell": {
        "cell_type": "code",
        "execution_count": 5,
        "metadata": {
         "collapsed": false,
         "trusted": true
        },
        "outputs": [],
        "source": "%%literate panel -ia \n---\nstart_row: [0,{{iris.flowers.shape[0]}}]\nnum_rows: [5,20]\n---\n    _df=iris.flowers[list(column_widget.value)].iloc[{{start_row}}:{{start_row+num_rows}}]\n    if not 'columns' in library.this.widgets:\n        library.this.widgets['columns']=column_widget\n    \n{{_df.to_html(classes='table')}}"
       },
       "cell_index": 2,
       "root": true
      }
     ]
    },
    "c232ac724da44ce4b8ab45b23f7be44b": {
     "views": []
    },
    "c235afa5804641fbb2011494f2eaed61": {
     "views": []
    },
    "c3807a0a67e34964a94ff6bd38ef13b5": {
     "views": []
    },
    "c4b3fb7ff3ef40329fb865e1d0f44e1d": {
     "views": []
    },
    "c535955a9fea4cccb070ae071fd4cb15": {
     "views": []
    },
    "c58c01fe447048d992ef2e2d3174dc5f": {
     "views": []
    },
    "c6217d636a3e4dbf8b520de42ff69692": {
     "views": []
    },
    "c64010f1156b45f7a4533c834349d927": {
     "views": []
    },
    "c677aae57e894c8a8abb06de6f582753": {
     "views": []
    },
    "c773951b1e0b44229e9b8a36e3a4c73b": {
     "views": []
    },
    "c780e091a7e04039bd0dd7b010322d14": {
     "views": []
    },
    "c79903c3d37b43f4bf0ea62ec875ddc1": {
     "views": []
    },
    "c7f30909b8cf4fbca348eb8428e92e9e": {
     "views": []
    },
    "c8dd7e5226594c7293dd3abd7d4f2137": {
     "views": []
    },
    "c9a39012a560408497b0c1339264593e": {
     "views": []
    },
    "c9aedfd88a8d42f087df66f59c02a60f": {
     "views": []
    },
    "ca08bdf717d74be58ce2e25c8fa48213": {
     "views": []
    },
    "ca1e028df150497c84d45d1c231f05c3": {
     "views": []
    },
    "ca7577b33d06407ca0bd673086c0f4fc": {
     "views": []
    },
    "caf598dd330244a48250b13f1e14ac69": {
     "views": []
    },
    "cb4f89dc5d0e42f0a3564ad868f53d2e": {
     "views": []
    },
    "cb534b8f21804e2fa3b5878e8289c0f1": {
     "views": []
    },
    "cb80fea15ad741c3b20d4fed39fa9156": {
     "views": []
    },
    "cb83d1ac34ec48909fa2cda7d2d1cf5e": {
     "views": []
    },
    "cbabc027c6654a8b90f4e6232b6b6721": {
     "views": []
    },
    "cc8dad74bfc84d01ab3261539d99c764": {
     "views": []
    },
    "cce651873279462ea7cfbf306b33bed1": {
     "views": []
    },
    "cd8ef788e24e44afb624011fd312148c": {
     "views": []
    },
    "cdcc876e075a41e492d0e245a0e79698": {
     "views": []
    },
    "cdd9ce8d3ac1423980bcc020af9fccc8": {
     "views": []
    },
    "ce20492957d04bb8b60b267bb8739da0": {
     "views": []
    },
    "ceaef49147b64cd59c0f1a6bac03c63e": {
     "views": []
    },
    "cefa5892cfa842b198ff30fb91122019": {
     "views": []
    },
    "cefed55109934a518f464bcf3fba923c": {
     "views": []
    },
    "d055b51ef67342a1805ebec70412c8dd": {
     "views": []
    },
    "d0e49bf3b4b44899b6c302b12639996f": {
     "views": []
    },
    "d16678b73a2a46af9d0bdf051e92d8db": {
     "views": []
    },
    "d199627bc9364161b1c6810030709b68": {
     "views": []
    },
    "d1e1be8a226646aa88539cc8c00cc344": {
     "views": []
    },
    "d205cbc5165d4ab291cd755eccd2e25b": {
     "views": []
    },
    "d271e180056d497ca97c03b32a807573": {
     "views": []
    },
    "d2f144a23f8444db9c66f6a0f0c7eb8e": {
     "views": []
    },
    "d304ef09231848a684135f490e27f615": {
     "views": []
    },
    "d306576210144e3487e6c26a7717f9d8": {
     "views": []
    },
    "d334941627f04413a4dfbd6502ef3463": {
     "views": []
    },
    "d48dd3cb237045e39a1f61eb894466d6": {
     "views": []
    },
    "d4cb6fcf5c5c4865bae5477292b3cd98": {
     "views": []
    },
    "d56aea02799d49a98fca97b3b0d3f28c": {
     "views": []
    },
    "d63e0ccb393a49999adb07057f9eb9f7": {
     "views": []
    },
    "d7119e14650743a1aae659eab7d1c730": {
     "views": []
    },
    "d775c0f7e0e0462f918542f29485f73a": {
     "views": []
    },
    "d84732f2ee7e4da7b0977b9ae276ecee": {
     "views": []
    },
    "d88d874268644e46ac8e7e27aa24faed": {
     "views": []
    },
    "d912e2184b894278a412d8bb735a1b36": {
     "views": []
    },
    "d91de6d54b59418c8e9da7dd4443cd3c": {
     "views": []
    },
    "d94dd93689d3488180a1698adc627a69": {
     "views": []
    },
    "d975525bb437438f81951b6e239c0a7b": {
     "views": []
    },
    "d9e5657d5e864e4f87856d09d443291f": {
     "views": []
    },
    "da259ccc2acd4f2bb20f93d2bacc48d5": {
     "views": []
    },
    "da822c1cfc7c4c15ae7269bca7713fef": {
     "views": []
    },
    "daf42692f42748e79bcb213554d1eaa6": {
     "views": []
    },
    "dba07d451a94459280f7f7b871b48057": {
     "views": []
    },
    "dbc69c686a444bf0bb9d53398490fe50": {
     "views": []
    },
    "dc819549110748fbab9a63eff0827acc": {
     "views": []
    },
    "dd2f6fbdda7c42cc8df2ce001f1d3b8d": {
     "views": []
    },
    "dde7636156ea4a3fbbb28840640b6af4": {
     "views": []
    },
    "de0364b36f4b461e9f2798fe72f00f7c": {
     "views": []
    },
    "de0a9df9c5ad4419961aa7b517392d63": {
     "views": []
    },
    "e05675c622434dffb5827a1227970178": {
     "views": []
    },
    "e0686830a4f4476394395af01a40128a": {
     "views": []
    },
    "e0cd39c973964cef9f905f07f5a67204": {
     "views": []
    },
    "e11f0d6fef234024b50fa9920db10c94": {
     "views": []
    },
    "e26543fd36494a4b98619b2a67cec12b": {
     "views": []
    },
    "e2910d0e6e3744a6812b1c66d5e3f5db": {
     "views": []
    },
    "e2ce7f61b4f34fd9b20089b61ec3c0ca": {
     "views": []
    },
    "e2d136c263ba4d388b97329806f33fa9": {
     "views": []
    },
    "e2ded81d97a24cb1bffc5de1f8ea2e77": {
     "views": []
    },
    "e2fbd63159e84e7997eb43d62119dca7": {
     "views": []
    },
    "e39e2be728574aefb4f49ffcd34c19bb": {
     "views": []
    },
    "e39e3ec96143471397ecb3f14e360d19": {
     "views": []
    },
    "e483d53659484587a40584e199ccd8a6": {
     "views": []
    },
    "e4a1d9432a8b46939b532c3b970e6403": {
     "views": []
    },
    "e55ee6c6e9494db8aec975e8febc2cff": {
     "views": []
    },
    "e58a758e239a40b8a9b010c1409e5b3f": {
     "views": []
    },
    "e5b82974465945a98c07ff1016380356": {
     "views": []
    },
    "e86bd4e0a1f943f690c9ed7e67d2866d": {
     "views": []
    },
    "e877e23c447f4c179e847749f6226172": {
     "views": []
    },
    "e90a6c92539d47a69802afb190aca416": {
     "views": []
    },
    "e934ab99d4b64e348b49224d61d24ce2": {
     "views": []
    },
    "e9b443d5bd134b61af741bf53dac8f7b": {
     "views": []
    },
    "ea6b990577d5455cba6f36cb7a317d9d": {
     "views": []
    },
    "eb0fa980de4e47c080cce44e2cbc337a": {
     "views": []
    },
    "eb30a40f71d440eab5af2c5a187bf56b": {
     "views": []
    },
    "ebad623e63f24911886a410cef0cd2dc": {
     "views": []
    },
    "ebe2d7ccbc334517bb605d0514dcc634": {
     "views": []
    },
    "ebf2e40893c54c5cacdcb5fafd83d859": {
     "views": []
    },
    "ec363f4a16004c7e82717fc4818e294e": {
     "views": []
    },
    "ec4e0d17c0e04797b65dbda49ad129dc": {
     "views": []
    },
    "ec6818988a7c4ff1906305537d3fc2f6": {
     "views": []
    },
    "ec8223e4af3a4518a19bcbfdda822d7a": {
     "views": []
    },
    "ec974db5fb6340e4ab4a4b3b7e4e77ae": {
     "views": []
    },
    "edfe8d3f759c4b968cede2db6af39e50": {
     "views": []
    },
    "ee8ad908bb3542208f90b35d40c0f9e9": {
     "views": []
    },
    "eeb3296b26ac4838acf36fa9b8119e05": {
     "views": []
    },
    "ef187b4ad7814b77b7085f4966915eb3": {
     "views": []
    },
    "ef2a1a2cd23046068f2dc0381acdbd28": {
     "views": []
    },
    "ef911ef67f3c4288a64172d184433163": {
     "views": []
    },
    "efe9b4f0b0ae411398806128f0801560": {
     "views": []
    },
    "f1607887943b401a8eb9f69e26a9fcc2": {
     "views": []
    },
    "f1a33b9017d84424b11bc29aeca6bee4": {
     "views": []
    },
    "f1ee6f6cab8e4138af6b75a096468483": {
     "views": []
    },
    "f26e5e4fd81b47afa69e9320b2488c29": {
     "views": []
    },
    "f299138a6aed4092a02890f813ab35eb": {
     "views": []
    },
    "f2abbe99ad434b5eb75b8cc4c4809e88": {
     "views": []
    },
    "f2cc66f50d7b432ab9bf584bf7709541": {
     "views": []
    },
    "f419a5100f8f45bca9c6e719cb9adb58": {
     "views": []
    },
    "f5262b463ae14508b451317383a9e31e": {
     "views": []
    },
    "f534278abbfe43eeb2db51b94ef06d42": {
     "views": []
    },
    "f56ff9fe63154dd391a32c07dfc1a955": {
     "views": []
    },
    "f59157dd0c3341a3b749e2e4358ce9f0": {
     "views": []
    },
    "f72bb19877314042bb9dc178bfe13d24": {
     "views": []
    },
    "f7ceb0d5702f463fa469fe8566c26cec": {
     "views": []
    },
    "f8290a2ae10a4e5c8d86f6588f37b502": {
     "views": []
    },
    "f844ca6b4ef24a41911b8737c36e832a": {
     "views": []
    },
    "f85fa46799ee4f71946a3b73dc3b6e49": {
     "views": []
    },
    "fad329b291fa4deea0d41388fb5343dc": {
     "views": []
    },
    "fada2ecef1ec46f4b5df77dd9573e4cb": {
     "views": []
    },
    "fb0c1dd82cd849bdab0d3c98e88aaa76": {
     "views": []
    },
    "fc18c2206b04487a88b318b5a94f2500": {
     "views": []
    },
    "fd00b1bff0d040aa8bbeef119007b151": {
     "views": []
    },
    "fd04e3ae6eb14bd3bf76b9729d698630": {
     "views": []
    },
    "fdb3f6f8004049cfb814f78bd6bd7177": {
     "views": []
    },
    "fe39b4e241e44cdcaccf7b5843fa9817": {
     "views": []
    },
    "fe8d69883bc9419d9ff48fb78f49d3d5": {
     "views": []
    },
    "feb6fba679f5479dbd5620589f72a697": {
     "views": []
    },
    "fee4069b63de4a36b67e62a9b2e2ca3f": {
     "views": []
    },
    "fefb23614c024be3ad002b888edaeb61": {
     "views": []
    },
    "ffe4c0da10134293805a7f5d55e7cd15": {
     "views": []
    }
   },
   "version": "1.1.0"
  }
 },
 "nbformat": 4,
 "nbformat_minor": 0
}
