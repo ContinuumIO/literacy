{
 "cells": [
  {
   "cell_type": "code",
   "execution_count": 1,
   "metadata": {
    "collapsed": true
   },
   "outputs": [],
   "source": [
    "from literacy import Literate\n",
    "lit=Literate()"
   ]
  },
  {
   "cell_type": "code",
   "execution_count": 2,
   "metadata": {
    "collapsed": false
   },
   "outputs": [
    {
     "name": "stdout",
     "output_type": "stream",
     "text": [
      "By default, indented code executes python\n",
      "Raw code fences are python\n"
     ]
    },
    {
     "data": {
      "text/html": [
       "<div><h1>Literate can be used with many languages</h1><p>Literate uses Github flavored markdown language tags to recognize executable code.</p><h2>Defaults</h2><h3>Python</h3><h4>Indented</h4></div><pre>print('By default, indented code executes python')</pre><!--execute: <pre>print('By default, indented code executes python')</pre>--><h4>Code Fence</h4><pre>print('Raw code fences are python')</pre><!--execute: <pre>print('Raw code fences are python')</pre>--><div><h4>Escaping</h4><p>Literate will not execute a language it does not know.</p></div><pre>print('This will not do anything.')</pre>"
      ],
      "text/plain": [
       "<literacy.cell.StaticCell object>"
      ]
     },
     "execution_count": 2,
     "metadata": {},
     "output_type": "execute_result"
    }
   ],
   "source": [
    "%%literate\n",
    "# Literate can be used with many languages\n",
    "\n",
    "Literate uses Github flavored markdown language tags to recognize executable code.\n",
    "\n",
    "## Defaults\n",
    "\n",
    "### Python\n",
    "\n",
    "#### Indented\n",
    "\n",
    "    print('By default, indented code executes python')\n",
    "    \n",
    "#### Code Fence\n",
    "\n",
    "```\n",
    "print('Raw code fences are python')\n",
    "```\n",
    "\n",
    "#### Escaping\n",
    "\n",
    "Literate will not execute a language it does not know.\n",
    "\n",
    "```raw\n",
    "print('This will not do anything.')\n",
    "```\n",
    "    "
   ]
  },
  {
   "cell_type": "code",
   "execution_count": 8,
   "metadata": {
    "collapsed": false
   },
   "outputs": [
    {
     "ename": "NameError",
     "evalue": "name 't' is not defined",
     "output_type": "error",
     "traceback": [
      "\u001b[0;31m---------------------------------------------------------------------------\u001b[0m",
      "\u001b[0;31mNameError\u001b[0m                                 Traceback (most recent call last)",
      "\u001b[0;32m<ipython-input-8-14ac1cb05b5a>\u001b[0m in \u001b[0;36m<module>\u001b[0;34m()\u001b[0m\n\u001b[0;32m----> 1\u001b[0;31m \u001b[0;32mdel\u001b[0m \u001b[0mt\u001b[0m\u001b[0;34m\u001b[0m\u001b[0m\n\u001b[0m",
      "\u001b[0;31mNameError\u001b[0m: name 't' is not defined"
     ]
    }
   ],
   "source": [
    "del t"
   ]
  },
  {
   "cell_type": "code",
   "execution_count": 10,
   "metadata": {
    "collapsed": false
   },
   "outputs": [
    {
     "data": {
      "text/html": [
       "<h1>Literate can extend new languages</h1><pre>from IPython import get_ipython\n",
       "import yaml\n",
       "def execute_yaml(code):\n",
       "    ip=get_ipython()\n",
       "    for key, value in yaml.load(code).items():\n",
       "        ip.user_ns[key] = value\n",
       "    return \"\"\n",
       "library.language(names=['yaml'],python=execute_yaml)</pre><!--execute: <pre>from IPython import get_ipython\n",
       "import yaml\n",
       "def execute_yaml(code):\n",
       "    ip=get_ipython()\n",
       "    for key, value in yaml.load(code).items():\n",
       "        ip.user_ns[key] = value\n",
       "    return \"\"\n",
       "library.language(names=['yaml'],python=execute_yaml)</pre>--><h2>Test out the yaml below</h2><pre>foo: bar\n",
       "baz: bah # none of this will be parsed in javascript</pre><blockquote><p>bar - bah</p>\n",
       "</blockquote>"
      ],
      "text/plain": [
       "<literacy.cell.StaticCell object>"
      ]
     },
     "execution_count": 10,
     "metadata": {},
     "output_type": "execute_result"
    }
   ],
   "source": [
    "%%literate \n",
    "# Literate can extend new languages\n",
    "    \n",
    "    from IPython import get_ipython\n",
    "    import yaml\n",
    "    def execute_yaml(code):\n",
    "        ip=get_ipython()\n",
    "        for key, value in yaml.load(code).items():\n",
    "            ip.user_ns[key] = value\n",
    "        return \"\"\n",
    "    library.language(names=['yaml'],python=execute_yaml)\n",
    "\n",
    "## Test out the yaml below\n",
    "    \n",
    "```yaml\n",
    "foo: bar\n",
    "baz: bah # none of this will be parsed in javascript\n",
    "```\n",
    "\n",
    "> {{foo}} - {{baz}}"
   ]
  },
  {
   "cell_type": "code",
   "execution_count": 34,
   "metadata": {
    "collapsed": false
   },
   "outputs": [
    {
     "data": {
      "text/html": [
       "<div><h1>JaDE</h1><p>Whitespace aware minimal HTML.<br/>\n",
       "<br/></p></div><pre>import pyjade\n",
       "library.language(names=['jade','pug'],html=pyjade.process)</pre><!--execute: <pre>import pyjade\n",
       "library.language(names=['jade','pug'],html=pyjade.process)</pre>--><div class=\"row\">\n",
       "  <div class=\"col col-md-6 col-md-offset-3\">\n",
       "    <h1 style=\"color:blue;\">This is jade</h1>\n",
       "  </div>\n",
       "</div><!--execute: <div class=\"row\">\n",
       "  <div class=\"col col-md-6 col-md-offset-3\">\n",
       "    <h1 style=\"color:blue;\">This is jade</h1>\n",
       "  </div>\n",
       "</div>--><div class=\"row\">\n",
       "  <div class=\"col col-md-6 col-md-offset-6\">\n",
       "    <h1 style=\"color:red;\">Jade used to be called PUG</h1>\n",
       "  </div>\n",
       "</div><!--execute: <div class=\"row\">\n",
       "  <div class=\"col col-md-6 col-md-offset-6\">\n",
       "    <h1 style=\"color:red;\">Jade used to be called PUG</h1>\n",
       "  </div>\n",
       "</div>-->"
      ],
      "text/plain": [
       "<literacy.cell.StaticCell object>"
      ]
     },
     "execution_count": 34,
     "metadata": {},
     "output_type": "execute_result"
    }
   ],
   "source": [
    "%%literate\n",
    "# JaDE\n",
    "    \n",
    "Whitespace aware minimal HTML.    \n",
    "<br>    \n",
    "    \n",
    "    import pyjade\n",
    "    library.language(names=['jade','pug'],html=pyjade.process)\n",
    "    \n",
    "```jade\n",
    "div.row\n",
    "    div.col.col-md-6.col-md-offset-3\n",
    "        h1(style=\"color:blue;\") This is jade\n",
    "```\n",
    "\n",
    "```pug\n",
    "div.row\n",
    "    div.col.col-md-6.col-md-offset-6\n",
    "        h1(style=\"color:red;\") Jade used to be called PUG\n",
    "```"
   ]
  },
  {
   "cell_type": "code",
   "execution_count": 37,
   "metadata": {
    "collapsed": false
   },
   "outputs": [
    {
     "data": {
      "text/html": [
       "<div id=\"p\" class=''>\n",
       "                    <div><h1>PyScript</h1><p>Whitespace aware minimal HTML.<br/>\n",
       "<br/></p></div><pre>from flexx import pyscript\n",
       "library.language(names=['pyscript'],js=pyscript.py2js)</pre><!--execute: <pre>from flexx import pyscript\n",
       "library.language(names=['pyscript'],js=pyscript.py2js)</pre>--><blockquote><p>Update this following with <code>pyscript</code>: <strong><span id=\"pyscript\"/></strong></p>\n",
       "</blockquote><pre>def do_some_js( value ):\n",
       "    jQuery('#pyscript').text(value)\n",
       "\n",
       "do_some_js(\"This will show up after rendering.  Right?\")</pre><!--execute: <pre>def do_some_js( value ):\n",
       "    jQuery('#pyscript').text(value)\n",
       "\n",
       "do_some_js(\"This will show up after rendering.  Right?\")</pre>-->\n",
       "            <script>var do_some_js;\n",
       "do_some_js = function (value) {\n",
       "    jQuery(\"#pyscript\").text(value);\n",
       "    return null;\n",
       "};\n",
       "\n",
       "do_some_js(\"This will show up after rendering.  Right?\");</script>\n",
       "                    </div>"
      ],
      "text/plain": [
       "<literacy.cell.StaticCell object>"
      ]
     },
     "execution_count": 37,
     "metadata": {},
     "output_type": "execute_result"
    }
   ],
   "source": [
    "%%literate p\n",
    "# PyScript\n",
    "    \n",
    "Whitespace aware minimal HTML.    \n",
    "<br>    \n",
    "    \n",
    "    from flexx import pyscript\n",
    "    library.language(names=['pyscript'],js=pyscript.py2js)\n",
    "    \n",
    "\n",
    "> Update this following with `pyscript`: __<span id=\"pyscript\"></span>__\n",
    "    \n",
    "```pyscript\n",
    "def do_some_js( value ):\n",
    "    jQuery('#pyscript').text(value)\n",
    "    \n",
    "do_some_js(\"This will show up after rendering.  Right?\")\n",
    "```\n",
    "\n"
   ]
  },
  {
   "cell_type": "code",
   "execution_count": 36,
   "metadata": {
    "collapsed": false
   },
   "outputs": [
    {
     "data": {
      "text/html": [
       "<div id=\"p\" class=''>\n",
       "                    <div><h1>Coffeescript</h1><p>My favorite way to write javascript that isn't python.</p></div><pre>import coffeetools\n",
       "library.language(names=['coffee','coffeescript'],js=coffeetools.coffee.compile)</pre><!--execute: <pre>import coffeetools\n",
       "library.language(names=['coffee','coffeescript'],js=coffeetools.coffee.compile)</pre>--><blockquote><p>Update this following with <code>coffee</code>: <strong><span id=\"coffee1\"/></strong></p>\n",
       "</blockquote><pre>coffee_func = (value)-&gt;\n",
       "    $('#coffee1').text(value)\n",
       "\n",
       "coffee_func(\"Whatever Forever\")</pre><!--execute: <pre>coffee_func = (value)-&gt;\n",
       "    $('#coffee1').text(value)\n",
       "\n",
       "coffee_func(\"Whatever Forever\")</pre>-->\n",
       "            <script>// Generated by CoffeeScript 1.10.0\n",
       "(function() {\n",
       "  var coffee_func;\n",
       "\n",
       "  coffee_func = function(value) {\n",
       "    return $('#coffee1').text(value);\n",
       "  };\n",
       "\n",
       "  coffee_func(\"Whatever Forever\");\n",
       "\n",
       "}).call(this);\n",
       "</script>\n",
       "                    </div>"
      ],
      "text/plain": [
       "<literacy.cell.StaticCell object>"
      ]
     },
     "execution_count": 36,
     "metadata": {},
     "output_type": "execute_result"
    }
   ],
   "source": [
    "%%literate p\n",
    "# Coffeescript\n",
    "    \n",
    "My favorite way to write javascript that isn't python.\n",
    "\n",
    "    import coffeetools\n",
    "    library.language(names=['coffee','coffeescript'],js=coffeetools.coffee.compile)\n",
    "\n",
    "> Update this following with `coffee`: __<span id=\"coffee1\"></span>__\n",
    "    \n",
    "```coffee\n",
    "coffee_func = (value)->\n",
    "    $('#coffee1').text(value)\n",
    "    \n",
    "coffee_func(\"Whatever Forever\")\n",
    "    \n",
    "```\n",
    "\n"
   ]
  },
  {
   "cell_type": "code",
   "execution_count": null,
   "metadata": {
    "collapsed": true
   },
   "outputs": [],
   "source": []
  }
 ],
 "metadata": {
  "anaconda-cloud": {},
  "kernelspec": {
   "display_name": "Python [Root]",
   "language": "python",
   "name": "Python [Root]"
  },
  "language_info": {
   "codemirror_mode": {
    "name": "ipython",
    "version": 3
   },
   "file_extension": ".py",
   "mimetype": "text/x-python",
   "name": "python",
   "nbconvert_exporter": "python",
   "pygments_lexer": "ipython3",
   "version": "3.5.1"
  },
  "widgets": {
   "state": {
    "06e9255067b84e5dbdcfdb47c4d2dd4f": {
     "views": []
    },
    "2c691973087345528b50ad14a51c195d": {
     "views": []
    },
    "43238dbfab954afcaaae25c1bd683f67": {
     "views": []
    },
    "7214fc8b0e074869bdcd9aca831aef9b": {
     "views": []
    },
    "9cc02d2ac30d444585c452e6966a812c": {
     "views": []
    },
    "d8ee6c6b9e3c486e98cd7c3b47f003e1": {
     "views": []
    },
    "db91e22cb82e4b8c8a38a03ac6fdd908": {
     "views": []
    },
    "dd10208c515048bab32d06d89f8d1285": {
     "views": []
    }
   },
   "version": "1.1.0"
  }
 },
 "nbformat": 4,
 "nbformat_minor": 0
}
