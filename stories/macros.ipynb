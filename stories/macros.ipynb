{
 "cells": [
  {
   "cell_type": "code",
   "execution_count": 4,
   "metadata": {
    "collapsed": true
   },
   "outputs": [],
   "source": [
    "from literacy import Literate\n",
    "library=Literate()"
   ]
  },
  {
   "cell_type": "code",
   "execution_count": 5,
   "metadata": {
    "collapsed": false
   },
   "outputs": [
    {
     "name": "stdout",
     "output_type": "stream",
     "text": [
      "By default, indented code executes python\n"
     ]
    },
    {
     "data": {
      "text/html": [
       "\n",
       "<p><h1>Literate can be used with many languages</h1></p>\n",
       "<p><p>Literate uses Github flavored markdown language tags to recognize executable code.</p></p>\n",
       "<p><h2>Defaults</h2></p>\n",
       "<p><h3>Python</h3></p>\n",
       "<h4>Indented</h4>\n",
       "\n",
       "\n",
       "\n",
       "<br>\n",
       "<pre class=\"\"><code>print('By default, indented code executes python')</code></pre>\n",
       "\n",
       "\n",
       "\n",
       "<h4>Code Fence</h4>\n",
       "\n",
       "\n",
       "\n",
       "<br>\n",
       "<pre class=\"\"><code>print('Raw code fences are python')</code></pre>\n",
       "\n",
       "\n",
       "\n",
       "<p><h4>Escaping</h4></p>\n",
       "<p>Literate will not execute a language it does not know.</p>\n",
       "\n",
       "\n",
       "\n",
       "<br>\n",
       "<pre class=\"\"><code>print('This will not do anything.')</code></pre>\n",
       "\n",
       "\n",
       "\n",
       "<br>\n",
       "<pre class=\"\"><code></code></pre>\n",
       "\n",
       "\n"
      ],
      "text/plain": [
       "<literacy.blocks.ParentCell object>"
      ]
     },
     "execution_count": 5,
     "metadata": {},
     "output_type": "execute_result"
    }
   ],
   "source": [
    "%%literate\n",
    "# Literate can be used with many languages\n",
    "\n",
    "Literate uses Github flavored markdown language tags to recognize executable code.\n",
    "\n",
    "## Defaults\n",
    "\n",
    "### Python\n",
    "\n",
    "#### Indented\n",
    "\n",
    "    print('By default, indented code executes python')\n",
    "    \n",
    "#### Code Fence\n",
    "\n",
    "```\n",
    "print('Raw code fences are python')\n",
    "```\n",
    "\n",
    "#### Escaping\n",
    "\n",
    "Literate will not execute a language it does not know.\n",
    "\n",
    "```raw\n",
    "print('This will not do anything.')\n",
    "```\n",
    "    "
   ]
  },
  {
   "cell_type": "code",
   "execution_count": 6,
   "metadata": {
    "collapsed": false
   },
   "outputs": [
    {
     "data": {
      "text/html": [
       "\n",
       "<h1>Literate can extend new languages</h1>\n",
       "\n",
       "\n",
       "\n",
       "<br>\n",
       "<pre class=\"\"><code>from IPython import get_ipython\n",
       "import yaml\n",
       "def execute_yaml(code):\n",
       "    ip=get_ipython()\n",
       "    for key, value in yaml.load(code).items():\n",
       "        ip.user_ns[key] = value\n",
       "    return \"\"\n",
       "library.macro('yaml',html=execute_yaml)</code></pre>\n",
       "\n",
       "\n",
       "\n",
       "<br>\n",
       "<pre class=\"\"><code></code></pre>\n",
       "\n",
       "\n"
      ],
      "text/plain": [
       "<literacy.blocks.ParentCell object>"
      ]
     },
     "execution_count": 6,
     "metadata": {},
     "output_type": "execute_result"
    }
   ],
   "source": [
    "%%literate \n",
    "# Literate can extend new languages\n",
    "    \n",
    "    from IPython import get_ipython\n",
    "    import yaml\n",
    "    def execute_yaml(code):\n",
    "        ip=get_ipython()\n",
    "        for key, value in yaml.load(code).items():\n",
    "            ip.user_ns[key] = value\n",
    "        return \"\"\n",
    "    library.macro('yaml',html=execute_yaml)"
   ]
  },
  {
   "cell_type": "code",
   "execution_count": 7,
   "metadata": {
    "collapsed": false
   },
   "outputs": [
    {
     "data": {
      "text/html": [
       "\n",
       "<p><h1>yaml test</h1></p>\n",
       "<h2>Test out the yaml below</h2>\n",
       "\n",
       "\n",
       "\n",
       "<br>\n",
       "<pre class=\"\"><code>foo: bar\n",
       "baz: bah # none of this will be parsed in javascript</code></pre>\n",
       "\n",
       "\n",
       "\n",
       "<blockquote><p>bar - bah</p>\n",
       "</blockquote>\n",
       "\n",
       "\n"
      ],
      "text/plain": [
       "<literacy.blocks.ParentCell object>"
      ]
     },
     "execution_count": 7,
     "metadata": {},
     "output_type": "execute_result"
    }
   ],
   "source": [
    "%%literate\n",
    "# yaml test\n",
    "\n",
    "## Test out the yaml below\n",
    "    \n",
    "```yaml\n",
    "foo: bar\n",
    "baz: bah # none of this will be parsed in javascript\n",
    "```\n",
    "\n",
    "> {{foo}} - {{baz}}"
   ]
  },
  {
   "cell_type": "code",
   "execution_count": 8,
   "metadata": {
    "collapsed": false
   },
   "outputs": [
    {
     "data": {
      "text/html": [
       "\n",
       "<p><h1>JaDE</h1></p>\n",
       "<p>Whitespace aware minimal HTML.<br>\n",
       "<br></p>\n",
       "\n",
       "\n",
       "\n",
       "<br>\n",
       "<pre class=\"\"><code>import pyjade\n",
       "library.macro('jade', html=pyjade.process)</code></pre>\n",
       "\n",
       "\n",
       "\n",
       "<br>\n",
       "<pre class=\"\"><code></code></pre>\n",
       "\n",
       "\n",
       "\n",
       "<div class=\"row\">\n",
       "  <div class=\"col col-md-6 col-md-offset-3\">\n",
       "    <h1 style=\"color:blue;\">This is jade</h1>\n",
       "  </div>\n",
       "</div>\n",
       "\n",
       "\n",
       "\n",
       "<br>\n",
       "<pre class=\"\"><code></code></pre>\n",
       "\n",
       "\n"
      ],
      "text/plain": [
       "<literacy.blocks.ParentCell object>"
      ]
     },
     "execution_count": 8,
     "metadata": {},
     "output_type": "execute_result"
    }
   ],
   "source": [
    "%%literate j\n",
    "# JaDE\n",
    "    \n",
    "Whitespace aware minimal HTML.    \n",
    "<br>    \n",
    "    \n",
    "    import pyjade\n",
    "    library.macro('jade', html=pyjade.process)\n",
    "\n",
    "```jade\n",
    "\n",
    "div.row\n",
    "    div.col.col-md-6.col-md-offset-3\n",
    "        h1(style=\"color:blue;\") This is jade\n",
    "```"
   ]
  },
  {
   "cell_type": "code",
   "execution_count": 12,
   "metadata": {
    "collapsed": false
   },
   "outputs": [
    {
     "data": {
      "text/html": [
       "\n",
       "<p><h1>PyScript</h1></p>\n",
       "<p>Whitespace aware minimal HTML.<br>\n",
       "<br></p>\n",
       "\n",
       "\n",
       "\n",
       "<br>\n",
       "<pre class=\"\"><code>from flexx import pyscript\n",
       "library.macro('pyscript',script=pyscript.py2js)</code></pre>\n",
       "\n",
       "\n",
       "\n",
       "<blockquote><p>Update this following with <code>pyscript</code>: <strong><span id=\"pyscript\"></span></strong></p>\n",
       "</blockquote>\n",
       "\n",
       "\n",
       "\n",
       "<br>\n",
       "<pre class=\"\"><code>def do_some_js( value ):\n",
       "    jQuery('#pyscript').text(value)\n",
       "    \n",
       "do_some_js(\"This will show up after rendering.  Right?\")</code></pre>\n",
       "\n",
       "\n",
       "<script>var do_some_js;\n",
       "do_some_js = function (value) {\n",
       "    jQuery(\"#pyscript\").text(value);\n",
       "    return null;\n",
       "};\n",
       "\n",
       "do_some_js(\"This will show up after rendering.  Right?\");</script>\n",
       "\n",
       "\n",
       "<br>\n",
       "<pre class=\"\"><code></code></pre>\n",
       "\n",
       "\n"
      ],
      "text/plain": [
       "<literacy.blocks.ParentCell object>"
      ]
     },
     "execution_count": 12,
     "metadata": {},
     "output_type": "execute_result"
    }
   ],
   "source": [
    "%%literate p\n",
    "# PyScript\n",
    "    \n",
    "Whitespace aware minimal HTML.    \n",
    "<br>    \n",
    "    \n",
    "    from flexx import pyscript\n",
    "    library.macro('pyscript',script=pyscript.py2js)\n",
    "    \n",
    "\n",
    "> Update this following with `pyscript`: __<span id=\"pyscript\"></span>__\n",
    "    \n",
    "```pyscript\n",
    "def do_some_js( value ):\n",
    "    jQuery('#pyscript').text(value)\n",
    "    \n",
    "do_some_js(\"This will show up after rendering.  Right?\")\n",
    "```\n",
    "\n"
   ]
  },
  {
   "cell_type": "code",
   "execution_count": 15,
   "metadata": {
    "collapsed": false
   },
   "outputs": [
    {
     "data": {
      "text/html": [
       "\n",
       "<p><h1>Coffeescript</h1></p>\n",
       "<p>My favorite way to write javascript that isn't python.</p>\n",
       "\n",
       "\n",
       "\n",
       "<br>\n",
       "<pre class=\"\"><code>import coffeetools\n",
       "library.macro(name='coffee', script=coffeetools.coffee.compile)</code></pre>\n",
       "\n",
       "\n",
       "\n",
       "<blockquote><p>Update this following with <code>coffee</code>: <strong><span id=\"coffee1\"></span></strong></p>\n",
       "</blockquote>\n",
       "\n",
       "\n",
       "\n",
       "<br>\n",
       "<pre class=\"\"><code>coffee_func = (value)->\n",
       "    $('#coffee1').text(value)\n",
       "    \n",
       "coffee_func(\"Whatever Forever\")\n",
       "    </code></pre>\n",
       "\n",
       "\n",
       "<script>// Generated by CoffeeScript 1.10.0\n",
       "(function() {\n",
       "  var coffee_func;\n",
       "\n",
       "  coffee_func = function(value) {\n",
       "    return $('#coffee1').text(value);\n",
       "  };\n",
       "\n",
       "  coffee_func(\"Whatever Forever\");\n",
       "\n",
       "}).call(this);\n",
       "</script>\n",
       "\n",
       "\n",
       "<br>\n",
       "<pre class=\"\"><code></code></pre>\n",
       "\n",
       "\n"
      ],
      "text/plain": [
       "<literacy.blocks.ParentCell object>"
      ]
     },
     "execution_count": 15,
     "metadata": {},
     "output_type": "execute_result"
    }
   ],
   "source": [
    "%%literate p\n",
    "# Coffeescript\n",
    "    \n",
    "My favorite way to write javascript that isn't python.\n",
    "\n",
    "    import coffeetools\n",
    "    library.macro(name='coffee', script=coffeetools.coffee.compile)\n",
    "\n",
    "> Update this following with `coffee`: __<span id=\"coffee1\"></span>__\n",
    "    \n",
    "```coffee\n",
    "coffee_func = (value)->\n",
    "    $('#coffee1').text(value)\n",
    "    \n",
    "coffee_func(\"Whatever Forever\")\n",
    "    \n",
    "```\n",
    "\n"
   ]
  }
 ],
 "metadata": {
  "anaconda-cloud": {},
  "kernelspec": {
   "display_name": "Python [Root]",
   "language": "python",
   "name": "Python [Root]"
  },
  "language_info": {
   "codemirror_mode": {
    "name": "ipython",
    "version": 3
   },
   "file_extension": ".py",
   "mimetype": "text/x-python",
   "name": "python",
   "nbconvert_exporter": "python",
   "pygments_lexer": "ipython3",
   "version": "3.5.1"
  },
  "widgets": {
   "state": {},
   "version": "1.1.0"
  }
 },
 "nbformat": 4,
 "nbformat_minor": 0
}
