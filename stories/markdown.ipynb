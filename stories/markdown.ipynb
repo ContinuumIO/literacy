{
 "cells": [
  {
   "cell_type": "code",
   "execution_count": 1,
   "metadata": {
    "collapsed": false
   },
   "outputs": [],
   "source": [
    "from literacy import Literate\n",
    "lib=Literate()"
   ]
  },
  {
   "cell_type": "code",
   "execution_count": 2,
   "metadata": {
    "collapsed": false
   },
   "outputs": [
    {
     "data": {
      "text/html": [
       "\n",
       "<h1>Literate works if there is one line of Markdown</h1>\n",
       "\n",
       "\n",
       "\n",
       "<br>\n",
       "<pre class=\"\"><code>    a= 10</code></pre>\n",
       "\n",
       "\n",
       "\n",
       "<p>1</p>\n",
       "\n",
       "\n"
      ],
      "text/plain": [
       "<literacy.blocks.ParentCell object>"
      ]
     },
     "execution_count": 2,
     "metadata": {},
     "output_type": "execute_result"
    }
   ],
   "source": [
    "%%literate\n",
    "---\n",
    "q: 1\n",
    "---\n",
    "# Literate works if there is one line of Markdown\n",
    "\n",
    "        a= 10\n",
    "    \n",
    "{{q}}"
   ]
  },
  {
   "cell_type": "code",
   "execution_count": 3,
   "metadata": {
    "collapsed": false
   },
   "outputs": [
    {
     "name": "stdout",
     "output_type": "stream",
     "text": [
      "Literate works if there is one line of indented code\n"
     ]
    },
    {
     "data": {
      "text/html": [
       "\n",
       "<br>\n",
       "<pre class=\"\"><code></code></pre>\n",
       "\n",
       "\n",
       "\n",
       "<br>\n",
       "<pre class=\"\"><code>print(\"Literate works if there is one line of indented code\")</code></pre>\n",
       "\n",
       "\n",
       "\n",
       "<br>\n",
       "<pre class=\"\"><code></code></pre>\n",
       "\n",
       "\n"
      ],
      "text/plain": [
       "<literacy.blocks.ParentCell object>"
      ]
     },
     "execution_count": 3,
     "metadata": {},
     "output_type": "execute_result"
    }
   ],
   "source": [
    "%%literate t\n",
    "    print(\"Literate works if there is one line of indented code\")"
   ]
  },
  {
   "cell_type": "code",
   "execution_count": 4,
   "metadata": {
    "collapsed": false
   },
   "outputs": [
    {
     "data": {
      "text/html": [
       "\n",
       "<br>\n",
       "<pre class=\"\"><code></code></pre>\n",
       "\n",
       "\n",
       "\n",
       "<br>\n",
       "<pre class=\"\"><code>print(\"Literate works if there is one code cell\")</code></pre>\n",
       "\n",
       "\n",
       "\n",
       "<p>There <strong>is</strong> a comment injected into the html.</p>\n",
       "\n",
       "\n"
      ],
      "text/plain": [
       "<literacy.blocks.ParentCell object>"
      ]
     },
     "execution_count": 4,
     "metadata": {},
     "output_type": "execute_result"
    }
   ],
   "source": [
    "%%literate\n",
    "```raw\n",
    "print(\"Literate works if there is one code cell\")\n",
    "```\n",
    "\n",
    "There __is__ a comment injected into the html.\n"
   ]
  },
  {
   "cell_type": "code",
   "execution_count": 5,
   "metadata": {
    "collapsed": false
   },
   "outputs": [
    {
     "name": "stdout",
     "output_type": "stream",
     "text": [
      "Literate does not render unregistered gfm lanugage annotations.\n"
     ]
    },
    {
     "data": {
      "text/html": [
       "\n",
       "<br>\n",
       "<pre class=\"\"><code></code></pre>\n",
       "\n",
       "\n",
       "\n",
       "<br>\n",
       "<pre class=\"\"><code>print(\"Literate does not render unregistered gfm lanugage annotations.\")</code></pre>\n",
       "\n",
       "\n",
       "\n",
       "<p>There <strong>is not</strong> comment injected into the html.</p>\n",
       "<p>\n",
       "&lt;br&gt;\n",
       "&lt;pre class=&#34;&#34;&gt;&lt;code&gt;&lt;/code&gt;&lt;/pre&gt;\n",
       "\n",
       "\n",
       "\n",
       "&lt;br&gt;\n",
       "&lt;pre class=&#34;&#34;&gt;&lt;code&gt;print(&#34;Literate does not render unregistered gfm lanugage annotations.&#34;)&lt;/code&gt;&lt;/pre&gt;\n",
       "\n",
       "\n",
       "</p>\n",
       "\n",
       "\n"
      ],
      "text/plain": [
       "<literacy.blocks.ParentCell object>"
      ]
     },
     "execution_count": 5,
     "metadata": {},
     "output_type": "execute_result"
    }
   ],
   "source": [
    "%%literate \n",
    "```python\n",
    "print(\"Literate does not render unregistered gfm lanugage annotations.\")\n",
    "```\n",
    "\n",
    "There __is not__ comment injected into the html.\n",
    "\n",
    "{{lib.this.data|e}}"
   ]
  },
  {
   "cell_type": "code",
   "execution_count": 6,
   "metadata": {
    "collapsed": false
   },
   "outputs": [
    {
     "data": {
      "text/html": [
       "\n",
       "<p><h1>Literate 1</h1></p>\n",
       "<p><h2>Literate 2</h2></p>\n",
       "<p><h3>Literate 3</h3></p>\n",
       "<h4>Literate 4</h4>\n",
       "\n",
       "\n"
      ],
      "text/plain": [
       "<literacy.blocks.ParentCell object>"
      ]
     },
     "execution_count": 6,
     "metadata": {},
     "output_type": "execute_result"
    }
   ],
   "source": [
    "%%literate \n",
    "# Literate 1\n",
    "## Literate 2\n",
    "### Literate 3\n",
    "#### Literate 4"
   ]
  },
  {
   "cell_type": "code",
   "execution_count": 7,
   "metadata": {
    "collapsed": false
   },
   "outputs": [
    {
     "ename": "NameError",
     "evalue": "name 'list_template' is not defined",
     "output_type": "error",
     "traceback": [
      "\u001b[0;31m---------------------------------------------------------------------------\u001b[0m",
      "\u001b[0;31mNameError\u001b[0m                                 Traceback (most recent call last)",
      "\u001b[0;32m<ipython-input-7-7e537787250b>\u001b[0m in \u001b[0;36m<module>\u001b[0;34m()\u001b[0m\n\u001b[0;32m----> 1\u001b[0;31m \u001b[0mlist_template\u001b[0m\u001b[0;34m.\u001b[0m\u001b[0mfrontmatter\u001b[0m\u001b[0;34m\u001b[0m\u001b[0m\n\u001b[0m",
      "\u001b[0;31mNameError\u001b[0m: name 'list_template' is not defined"
     ]
    }
   ],
   "source": [
    "list_template.frontmatter"
   ]
  },
  {
   "cell_type": "code",
   "execution_count": 9,
   "metadata": {
    "collapsed": false
   },
   "outputs": [
    {
     "data": {
      "text/html": [
       "\n",
       "<ul>\n",
       "<li>2</li>\n",
       "<li>3</li>\n",
       "<li>4</li>\n",
       "<li>5</li>\n",
       "</ul>\n",
       "\n",
       "\n"
      ],
      "text/plain": [
       "<literacy.blocks.ParentCell object>"
      ]
     },
     "execution_count": 9,
     "metadata": {},
     "output_type": "execute_result"
    }
   ],
   "source": [
    "%%literate list_template\n",
    "---\n",
    "# frontmatter is not rendered\n",
    "v: [2,3,4,5,6]\n",
    "---\n",
    "* {{v[0]}}\n",
    "* {{v[1]}}\n",
    "* {{v[2]}}\n",
    "* {{v[3]}}"
   ]
  },
  {
   "cell_type": "code",
   "execution_count": 10,
   "metadata": {
    "collapsed": false
   },
   "outputs": [
    {
     "data": {
      "text/html": [
       "\n",
       "<p>\n",
       "<ul>\n",
       "<li>2</li>\n",
       "<li>3</li>\n",
       "<li>4</li>\n",
       "<li>5</li>\n",
       "</ul>\n",
       "\n",
       "\n",
       "</p>\n",
       "\n",
       "\n"
      ],
      "text/plain": [
       "<literacy.blocks.ParentCell object>"
      ]
     },
     "execution_count": 10,
     "metadata": {},
     "output_type": "execute_result"
    }
   ],
   "source": [
    "%%literate\n",
    "{{list_template.data}}"
   ]
  },
  {
   "cell_type": "code",
   "execution_count": 11,
   "metadata": {
    "collapsed": false
   },
   "outputs": [
    {
     "data": {
      "text/html": [
       "\n",
       "<p><h1>This Ain't Markdown no more</h1></p>\n",
       "<html>\n",
       "<div class=\"panel panel-default\">\n",
       "  <div class=\"panel-heading\">Panel heading without title</div>\n",
       "  <div class=\"panel-body\">\n",
       "    Panel content\n",
       "  </div>\n",
       "</div>\n",
       "\n",
       "<div class=\"panel panel-default\">\n",
       "  <div class=\"panel-heading\">\n",
       "    <h3 class=\"panel-title\">Panel title</h3>\n",
       "  </div>\n",
       "  <div class=\"panel-body\">\n",
       "    Panel content\n",
       "  </div>\n",
       "</div>\n",
       "</html>\n",
       "\n",
       "\n"
      ],
      "text/plain": [
       "<literacy.blocks.ParentCell object>"
      ]
     },
     "execution_count": 11,
     "metadata": {},
     "output_type": "execute_result"
    }
   ],
   "source": [
    "%%literate\n",
    "# This Ain't Markdown no more\n",
    "<html>\n",
    "<div class=\"panel panel-default\">\n",
    "  <div class=\"panel-heading\">Panel heading without title</div>\n",
    "  <div class=\"panel-body\">\n",
    "    Panel content\n",
    "  </div>\n",
    "</div>\n",
    "\n",
    "<div class=\"panel panel-default\">\n",
    "  <div class=\"panel-heading\">\n",
    "    <h3 class=\"panel-title\">Panel title</h3>\n",
    "  </div>\n",
    "  <div class=\"panel-body\">\n",
    "    Panel content\n",
    "  </div>\n",
    "</div>\n",
    "</html>"
   ]
  },
  {
   "cell_type": "code",
   "execution_count": null,
   "metadata": {
    "collapsed": true
   },
   "outputs": [],
   "source": []
  },
  {
   "cell_type": "code",
   "execution_count": null,
   "metadata": {
    "collapsed": true
   },
   "outputs": [],
   "source": []
  }
 ],
 "metadata": {
  "anaconda-cloud": {},
  "kernelspec": {
   "display_name": "Python [Root]",
   "language": "python",
   "name": "Python [Root]"
  },
  "language_info": {
   "codemirror_mode": {
    "name": "ipython",
    "version": 3
   },
   "file_extension": ".py",
   "mimetype": "text/x-python",
   "name": "python",
   "nbconvert_exporter": "python",
   "pygments_lexer": "ipython3",
   "version": "3.5.1"
  },
  "widgets": {
   "state": {},
   "version": "1.1.0"
  }
 },
 "nbformat": 4,
 "nbformat_minor": 0
}
