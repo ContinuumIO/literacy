{
 "cells": [
  {
   "cell_type": "code",
   "execution_count": 1,
   "metadata": {
    "collapsed": false
   },
   "outputs": [],
   "source": [
    "from literacy import Literate\n",
    "library=Literate()"
   ]
  },
  {
   "cell_type": "code",
   "execution_count": 2,
   "metadata": {
    "collapsed": false
   },
   "outputs": [
    {
     "data": {
      "text/html": [
       "<h1>Literate works if there is one line of Markdown</h1>"
      ],
      "text/plain": [
       "<literacy.cell.StaticCell object>"
      ]
     },
     "execution_count": 2,
     "metadata": {},
     "output_type": "execute_result"
    }
   ],
   "source": [
    "%%literate\n",
    "# Literate works if there is one line of Markdown"
   ]
  },
  {
   "cell_type": "code",
   "execution_count": 3,
   "metadata": {
    "collapsed": false
   },
   "outputs": [
    {
     "name": "stdout",
     "output_type": "stream",
     "text": [
      "Literate works if there is one line of indented code\n"
     ]
    },
    {
     "data": {
      "text/html": [
       "<div id=\"t\" class=''>\n",
       "                    <pre>print(\"Literate works if there is one line of indented code\")</pre><!--execute: <pre>print(\"Literate works if there is one line of indented code\")</pre>-->\n",
       "                    </div>"
      ],
      "text/plain": [
       "<literacy.cell.StaticCell object>"
      ]
     },
     "execution_count": 3,
     "metadata": {},
     "output_type": "execute_result"
    }
   ],
   "source": [
    "%%literate t\n",
    "    print(\"Literate works if there is one line of indented code\")\n"
   ]
  },
  {
   "cell_type": "code",
   "execution_count": 4,
   "metadata": {
    "collapsed": false
   },
   "outputs": [
    {
     "name": "stdout",
     "output_type": "stream",
     "text": [
      "Literate works if there is one code cell\n"
     ]
    },
    {
     "data": {
      "text/html": [
       "<pre>print(\"Literate works if there is one code cell\")</pre><!--execute: <pre>print(\"Literate works if there is one code cell\")</pre>--><div><p>There <strong>is</strong> a comment injected into the html.</p><p>&lt;pre&gt;print(&#34;Literate works if there is one code cell&#34;)&lt;/pre&gt;&lt;!--execute: &lt;pre&gt;print(&#34;Literate works if there is one code cell&#34;)&lt;/pre&gt;--&gt;</p></div>"
      ],
      "text/plain": [
       "<literacy.cell.StaticCell object>"
      ]
     },
     "execution_count": 4,
     "metadata": {},
     "output_type": "execute_result"
    }
   ],
   "source": [
    "%%literate\n",
    "```\n",
    "print(\"Literate works if there is one code cell\")\n",
    "```\n",
    "\n",
    "There __is__ a comment injected into the html.\n",
    "\n",
    "{{library.this.data|e}}"
   ]
  },
  {
   "cell_type": "code",
   "execution_count": 5,
   "metadata": {
    "collapsed": false
   },
   "outputs": [
    {
     "data": {
      "text/html": [
       "<pre>print(\"Literate does not render unregistered gfm lanugage annotations.\")</pre><div><p>There <strong>is not</strong> comment injected into the html.</p><p>&lt;pre&gt;print(&#34;Literate does not render unregistered gfm lanugage annotations.&#34;)&lt;/pre&gt;</p></div>"
      ],
      "text/plain": [
       "<literacy.cell.StaticCell object>"
      ]
     },
     "execution_count": 5,
     "metadata": {},
     "output_type": "execute_result"
    }
   ],
   "source": [
    "%%literate\n",
    "```raw\n",
    "print(\"Literate does not render unregistered gfm lanugage annotations.\")\n",
    "```\n",
    "\n",
    "There __is not__ comment injected into the html.\n",
    "\n",
    "{{library.this.data|e}}"
   ]
  },
  {
   "cell_type": "code",
   "execution_count": 6,
   "metadata": {
    "collapsed": false
   },
   "outputs": [
    {
     "data": {
      "text/html": [
       "<div><h1>Literate 1</h1><h2>Literate 2</h2><h3>Literate 3</h3><h4>Literate 4</h4></div>"
      ],
      "text/plain": [
       "<literacy.cell.StaticCell object>"
      ]
     },
     "execution_count": 6,
     "metadata": {},
     "output_type": "execute_result"
    }
   ],
   "source": [
    "%%literate \n",
    "# Literate 1\n",
    "## Literate 2\n",
    "### Literate 3\n",
    "#### Literate 4"
   ]
  },
  {
   "cell_type": "code",
   "execution_count": 7,
   "metadata": {
    "collapsed": false
   },
   "outputs": [
    {
     "data": {
      "text/html": [
       "<div><h1>Literate 10</h1><h2>Literate 11</h2><h3>Literate 12</h3><h4>Literate 13</h4></div>"
      ],
      "text/plain": [
       "<literacy.cell.StaticCell object>"
      ]
     },
     "execution_count": 7,
     "metadata": {},
     "output_type": "execute_result"
    }
   ],
   "source": [
    "%%literate \n",
    "---\n",
    "# frontmatter is not rendered\n",
    "v: [10,11,12,13,]\n",
    "---\n",
    "# Literate {{v[0]}}\n",
    "## Literate {{v[1]}}\n",
    "### Literate {{v[2]}}\n",
    "#### Literate {{v[3]}}"
   ]
  },
  {
   "cell_type": "code",
   "execution_count": 8,
   "metadata": {
    "collapsed": false
   },
   "outputs": [
    {
     "data": {
      "text/html": [
       "<div id=\"list_template\" class=''>\n",
       "                    <div><li>2</li><li>3</li><li>4</li><li>5</li></div>\n",
       "                    </div>"
      ],
      "text/plain": [
       "<literacy.cell.StaticCell object>"
      ]
     },
     "execution_count": 8,
     "metadata": {},
     "output_type": "execute_result"
    }
   ],
   "source": [
    "%%literate list_template\n",
    "---\n",
    "# frontmatter is not rendered\n",
    "v: [2,3,4,5,6]\n",
    "---\n",
    "* {{v[0]}}\n",
    "* {{v[1]}}\n",
    "* {{v[2]}}\n",
    "* {{v[3]}}"
   ]
  },
  {
   "cell_type": "code",
   "execution_count": 9,
   "metadata": {
    "collapsed": false
   },
   "outputs": [
    {
     "data": {
      "text/html": [
       "<p><div id=\"list_template\" class=''>\n",
       "                    <div><li>2</li><li>3</li><li>4</li><li>5</li></div>\n",
       "                    </div></p>"
      ],
      "text/plain": [
       "<literacy.cell.StaticCell object>"
      ]
     },
     "execution_count": 9,
     "metadata": {},
     "output_type": "execute_result"
    }
   ],
   "source": [
    "%%literate\n",
    "{{list_template.data}}"
   ]
  },
  {
   "cell_type": "code",
   "execution_count": 11,
   "metadata": {
    "collapsed": true
   },
   "outputs": [],
   "source": [
    "# Stop using markdown ¯\\_(ツ)_/¯\n",
    "library.env.renderer=lambda s:s"
   ]
  },
  {
   "cell_type": "code",
   "execution_count": 13,
   "metadata": {
    "collapsed": false
   },
   "outputs": [
    {
     "data": {
      "text/html": [
       "<div><p># This Ain't Markdown no more\n",
       "\n",
       "</p><div class=\"panel panel-default\">\n",
       "  <div class=\"panel-heading\">Panel heading without title</div>\n",
       "  <div class=\"panel-body\">\n",
       "    Panel content\n",
       "  </div>\n",
       "</div><div class=\"panel panel-default\">\n",
       "  <div class=\"panel-heading\">\n",
       "    <h3 class=\"panel-title\">Panel title</h3>\n",
       "  </div>\n",
       "  <div class=\"panel-body\">\n",
       "    Panel content\n",
       "  </div>\n",
       "</div></div>"
      ],
      "text/plain": [
       "<literacy.cell.StaticCell object>"
      ]
     },
     "execution_count": 13,
     "metadata": {},
     "output_type": "execute_result"
    }
   ],
   "source": [
    "%%literate\n",
    "# This Ain't Markdown no more\n",
    "\n",
    "<div class=\"panel panel-default\">\n",
    "  <div class=\"panel-heading\">Panel heading without title</div>\n",
    "  <div class=\"panel-body\">\n",
    "    Panel content\n",
    "  </div>\n",
    "</div>\n",
    "\n",
    "<div class=\"panel panel-default\">\n",
    "  <div class=\"panel-heading\">\n",
    "    <h3 class=\"panel-title\">Panel title</h3>\n",
    "  </div>\n",
    "  <div class=\"panel-body\">\n",
    "    Panel content\n",
    "  </div>\n",
    "</div>"
   ]
  },
  {
   "cell_type": "code",
   "execution_count": null,
   "metadata": {
    "collapsed": true
   },
   "outputs": [],
   "source": []
  }
 ],
 "metadata": {
  "anaconda-cloud": {},
  "kernelspec": {
   "display_name": "Python [Root]",
   "language": "python",
   "name": "Python [Root]"
  },
  "language_info": {
   "codemirror_mode": {
    "name": "ipython",
    "version": 3
   },
   "file_extension": ".py",
   "mimetype": "text/x-python",
   "name": "python",
   "nbconvert_exporter": "python",
   "pygments_lexer": "ipython3",
   "version": "3.5.1"
  },
  "widgets": {
   "state": {},
   "version": "1.1.0"
  }
 },
 "nbformat": 4,
 "nbformat_minor": 0
}
